{
  "nbformat": 4,
  "nbformat_minor": 0,
  "metadata": {
    "colab": {
      "provenance": [],
      "authorship_tag": "ABX9TyNdRNzDfZb2yv6TCURgwfgI",
      "include_colab_link": true
    },
    "kernelspec": {
      "name": "python3",
      "display_name": "Python 3"
    },
    "language_info": {
      "name": "python"
    }
  },
  "cells": [
    {
      "cell_type": "markdown",
      "metadata": {
        "id": "view-in-github",
        "colab_type": "text"
      },
      "source": [
        "<a href=\"https://colab.research.google.com/github/patibandlaswaroopa/FML/blob/main/word%20net%20lemmatize.ipynb\" target=\"_parent\"><img src=\"https://colab.research.google.com/assets/colab-badge.svg\" alt=\"Open In Colab\"/></a>"
      ]
    },
    {
      "cell_type": "code",
      "source": [
        "import nltk\n",
        "from nltk.stem import WordNetLemmatizer\n",
        "WordNetLemmatizer = WordNetLemmatizer()\n",
        "nltk.download('wordnet')\n"
      ],
      "metadata": {
        "colab": {
          "base_uri": "https://localhost:8080/"
        },
        "id": "ZSFbhvZ76rP9",
        "outputId": "2c30b3ae-e337-4ce4-eaeb-108b621aeb0f"
      },
      "execution_count": 26,
      "outputs": [
        {
          "output_type": "stream",
          "name": "stderr",
          "text": [
            "[nltk_data] Downloading package wordnet to /root/nltk_data...\n"
          ]
        },
        {
          "output_type": "execute_result",
          "data": {
            "text/plain": [
              "True"
            ]
          },
          "metadata": {},
          "execution_count": 26
        }
      ]
    },
    {
      "cell_type": "code",
      "source": [
        "\n",
        "sentence = \"He was the one who motivated everybody in the country with his inspiring speeches. He taught the youth to take responsibility and work in the direction of development with loyalty and integrity. Dr. Kalam's inspirational life itself is a great inspiration.\"\n",
        "punctuation = \"!:?;\""
      ],
      "metadata": {
        "id": "lPRI5xBz67rc"
      },
      "execution_count": 27,
      "outputs": []
    },
    {
      "cell_type": "code",
      "source": [
        "from nltk.tokenize import word_tokenize,sent_tokenize"
      ],
      "metadata": {
        "id": "get0gYjk7F6p"
      },
      "execution_count": 28,
      "outputs": []
    },
    {
      "cell_type": "code",
      "source": [
        "def wordNet(sentence):\n",
        "          tokens = word_tokenize(sentence)\n",
        "          print(tokens)\n",
        "          Wordnetlwmmatizer=[]\n",
        "          for i in tokens:\n",
        "             Wordnetlwmmatizer.append(WordNetLemmatizer.lemmatize(i))\n",
        "             Wordnetlwmmatizer.append(\"\")\n",
        "          return \"\".join(Wordnetlwmmatizer)\n",
        "x = wordNet(sentence)\n",
        "print(\"sentence after lemmatization\",x)"
      ],
      "metadata": {
        "colab": {
          "base_uri": "https://localhost:8080/"
        },
        "id": "OipOEQEv8BV2",
        "outputId": "d98dde84-3764-47bc-d845-05cf8d07614d"
      },
      "execution_count": 35,
      "outputs": [
        {
          "output_type": "stream",
          "name": "stdout",
          "text": [
            "['He', 'was', 'the', 'one', 'who', 'motivated', 'everybody', 'in', 'the', 'country', 'with', 'his', 'inspiring', 'speeches', '.', 'He', 'taught', 'the', 'youth', 'to', 'take', 'responsibility', 'and', 'work', 'in', 'the', 'direction', 'of', 'development', 'with', 'loyalty', 'and', 'integrity', '.', 'Dr.', 'Kalam', \"'s\", 'inspirational', 'life', 'itself', 'is', 'a', 'great', 'inspiration', '.']\n",
            "sentence after lemmatization Hewatheonewhomotivatedeverybodyinthecountrywithhisinspiringspeech.Hetaughttheyouthtotakeresponsibilityandworkinthedirectionofdevelopmentwithloyaltyandintegrity.Dr.Kalam'sinspirationallifeitselfisagreatinspiration.\n"
          ]
        }
      ]
    }
  ]
}