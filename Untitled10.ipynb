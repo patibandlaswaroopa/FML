{
  "nbformat": 4,
  "nbformat_minor": 0,
  "metadata": {
    "colab": {
      "provenance": [],
      "toc_visible": true,
      "authorship_tag": "ABX9TyOJObvHxhOhuwyifyZZlwCH",
      "include_colab_link": true
    },
    "kernelspec": {
      "name": "python3",
      "display_name": "Python 3"
    },
    "language_info": {
      "name": "python"
    }
  },
  "cells": [
    {
      "cell_type": "markdown",
      "metadata": {
        "id": "view-in-github",
        "colab_type": "text"
      },
      "source": [
        "<a href=\"https://colab.research.google.com/github/patibandlaswaroopa/FML/blob/main/Untitled10.ipynb\" target=\"_parent\"><img src=\"https://colab.research.google.com/assets/colab-badge.svg\" alt=\"Open In Colab\"/></a>"
      ]
    },
    {
      "cell_type": "code",
      "execution_count": 1,
      "metadata": {
        "colab": {
          "base_uri": "https://localhost:8080/",
          "height": 300
        },
        "id": "BpnQNfJlOL6R",
        "outputId": "3d7ac6db-b3a2-4c1c-aafc-af27eee99d91"
      },
      "outputs": [
        {
          "output_type": "execute_result",
          "data": {
            "text/plain": [
              "   AGENCY_ID  PRIMARY_AGENCY_ID   PROD_ABBR PROD_LINE STATE_ABBR  \\\n",
              "0          3                  3  BOILERMACH        CL         IN   \n",
              "1          3                  3  BOILERMACH        CL         IN   \n",
              "2          3                  3  BOILERMACH        CL         IN   \n",
              "3          3                  3  BOILERMACH        CL         IN   \n",
              "4          3                  3  BOILERMACH        CL         IN   \n",
              "\n",
              "   STAT_PROFILE_DATE_YEAR  RETENTION_POLY_QTY  POLY_INFORCE_QTY  \\\n",
              "0                    2005                   0                 0   \n",
              "1                    2006                   0                 0   \n",
              "2                    2007                   0                 0   \n",
              "3                    2008                   0                 0   \n",
              "4                    2009                   0                 0   \n",
              "\n",
              "   PREV_POLY_INFORCE_QTY  NB_WRTN_PREM_AMT  ...  PL_BOUND_CT_ELINKS  \\\n",
              "0                      0              40.0  ...                 0.0   \n",
              "1                      0             151.0  ...                 0.0   \n",
              "2                      0              40.0  ...                 0.0   \n",
              "3                      0              69.0  ...                 0.0   \n",
              "4                      0              28.0  ...                 0.0   \n",
              "\n",
              "   PL_QUO_CT_ELINKS  PL_BOUND_CT_PLRANK  PL_QUO_CT_PLRANK  PL_BOUND_CT_eQTte  \\\n",
              "0               0.0                 0.0             103.0               50.0   \n",
              "1               0.0                 0.0             103.0               50.0   \n",
              "2               0.0                 0.0             103.0               50.0   \n",
              "3               0.0                 0.0             103.0               50.0   \n",
              "4               0.0                 0.0             103.0               50.0   \n",
              "\n",
              "   PL_QUO_CT_eQTte  PL_BOUND_CT_APPLIED  PL_QUO_CT_APPLIED  \\\n",
              "0            288.0                  0.0                0.0   \n",
              "1            288.0                  0.0                0.0   \n",
              "2            288.0                  0.0                0.0   \n",
              "3            288.0                  0.0                0.0   \n",
              "4            288.0                  0.0                0.0   \n",
              "\n",
              "   PL_BOUND_CT_TRANSACTNOW  PL_QUO_CT_TRANSACTNOW  \n",
              "0                      0.0                    0.0  \n",
              "1                      0.0                    0.0  \n",
              "2                      0.0                    0.0  \n",
              "3                      0.0                    0.0  \n",
              "4                      0.0                    0.0  \n",
              "\n",
              "[5 rows x 49 columns]"
            ],
            "text/html": [
              "\n",
              "  <div id=\"df-d9974ecd-de56-443a-96de-339d5db96b5f\">\n",
              "    <div class=\"colab-df-container\">\n",
              "      <div>\n",
              "<style scoped>\n",
              "    .dataframe tbody tr th:only-of-type {\n",
              "        vertical-align: middle;\n",
              "    }\n",
              "\n",
              "    .dataframe tbody tr th {\n",
              "        vertical-align: top;\n",
              "    }\n",
              "\n",
              "    .dataframe thead th {\n",
              "        text-align: right;\n",
              "    }\n",
              "</style>\n",
              "<table border=\"1\" class=\"dataframe\">\n",
              "  <thead>\n",
              "    <tr style=\"text-align: right;\">\n",
              "      <th></th>\n",
              "      <th>AGENCY_ID</th>\n",
              "      <th>PRIMARY_AGENCY_ID</th>\n",
              "      <th>PROD_ABBR</th>\n",
              "      <th>PROD_LINE</th>\n",
              "      <th>STATE_ABBR</th>\n",
              "      <th>STAT_PROFILE_DATE_YEAR</th>\n",
              "      <th>RETENTION_POLY_QTY</th>\n",
              "      <th>POLY_INFORCE_QTY</th>\n",
              "      <th>PREV_POLY_INFORCE_QTY</th>\n",
              "      <th>NB_WRTN_PREM_AMT</th>\n",
              "      <th>...</th>\n",
              "      <th>PL_BOUND_CT_ELINKS</th>\n",
              "      <th>PL_QUO_CT_ELINKS</th>\n",
              "      <th>PL_BOUND_CT_PLRANK</th>\n",
              "      <th>PL_QUO_CT_PLRANK</th>\n",
              "      <th>PL_BOUND_CT_eQTte</th>\n",
              "      <th>PL_QUO_CT_eQTte</th>\n",
              "      <th>PL_BOUND_CT_APPLIED</th>\n",
              "      <th>PL_QUO_CT_APPLIED</th>\n",
              "      <th>PL_BOUND_CT_TRANSACTNOW</th>\n",
              "      <th>PL_QUO_CT_TRANSACTNOW</th>\n",
              "    </tr>\n",
              "  </thead>\n",
              "  <tbody>\n",
              "    <tr>\n",
              "      <th>0</th>\n",
              "      <td>3</td>\n",
              "      <td>3</td>\n",
              "      <td>BOILERMACH</td>\n",
              "      <td>CL</td>\n",
              "      <td>IN</td>\n",
              "      <td>2005</td>\n",
              "      <td>0</td>\n",
              "      <td>0</td>\n",
              "      <td>0</td>\n",
              "      <td>40.0</td>\n",
              "      <td>...</td>\n",
              "      <td>0.0</td>\n",
              "      <td>0.0</td>\n",
              "      <td>0.0</td>\n",
              "      <td>103.0</td>\n",
              "      <td>50.0</td>\n",
              "      <td>288.0</td>\n",
              "      <td>0.0</td>\n",
              "      <td>0.0</td>\n",
              "      <td>0.0</td>\n",
              "      <td>0.0</td>\n",
              "    </tr>\n",
              "    <tr>\n",
              "      <th>1</th>\n",
              "      <td>3</td>\n",
              "      <td>3</td>\n",
              "      <td>BOILERMACH</td>\n",
              "      <td>CL</td>\n",
              "      <td>IN</td>\n",
              "      <td>2006</td>\n",
              "      <td>0</td>\n",
              "      <td>0</td>\n",
              "      <td>0</td>\n",
              "      <td>151.0</td>\n",
              "      <td>...</td>\n",
              "      <td>0.0</td>\n",
              "      <td>0.0</td>\n",
              "      <td>0.0</td>\n",
              "      <td>103.0</td>\n",
              "      <td>50.0</td>\n",
              "      <td>288.0</td>\n",
              "      <td>0.0</td>\n",
              "      <td>0.0</td>\n",
              "      <td>0.0</td>\n",
              "      <td>0.0</td>\n",
              "    </tr>\n",
              "    <tr>\n",
              "      <th>2</th>\n",
              "      <td>3</td>\n",
              "      <td>3</td>\n",
              "      <td>BOILERMACH</td>\n",
              "      <td>CL</td>\n",
              "      <td>IN</td>\n",
              "      <td>2007</td>\n",
              "      <td>0</td>\n",
              "      <td>0</td>\n",
              "      <td>0</td>\n",
              "      <td>40.0</td>\n",
              "      <td>...</td>\n",
              "      <td>0.0</td>\n",
              "      <td>0.0</td>\n",
              "      <td>0.0</td>\n",
              "      <td>103.0</td>\n",
              "      <td>50.0</td>\n",
              "      <td>288.0</td>\n",
              "      <td>0.0</td>\n",
              "      <td>0.0</td>\n",
              "      <td>0.0</td>\n",
              "      <td>0.0</td>\n",
              "    </tr>\n",
              "    <tr>\n",
              "      <th>3</th>\n",
              "      <td>3</td>\n",
              "      <td>3</td>\n",
              "      <td>BOILERMACH</td>\n",
              "      <td>CL</td>\n",
              "      <td>IN</td>\n",
              "      <td>2008</td>\n",
              "      <td>0</td>\n",
              "      <td>0</td>\n",
              "      <td>0</td>\n",
              "      <td>69.0</td>\n",
              "      <td>...</td>\n",
              "      <td>0.0</td>\n",
              "      <td>0.0</td>\n",
              "      <td>0.0</td>\n",
              "      <td>103.0</td>\n",
              "      <td>50.0</td>\n",
              "      <td>288.0</td>\n",
              "      <td>0.0</td>\n",
              "      <td>0.0</td>\n",
              "      <td>0.0</td>\n",
              "      <td>0.0</td>\n",
              "    </tr>\n",
              "    <tr>\n",
              "      <th>4</th>\n",
              "      <td>3</td>\n",
              "      <td>3</td>\n",
              "      <td>BOILERMACH</td>\n",
              "      <td>CL</td>\n",
              "      <td>IN</td>\n",
              "      <td>2009</td>\n",
              "      <td>0</td>\n",
              "      <td>0</td>\n",
              "      <td>0</td>\n",
              "      <td>28.0</td>\n",
              "      <td>...</td>\n",
              "      <td>0.0</td>\n",
              "      <td>0.0</td>\n",
              "      <td>0.0</td>\n",
              "      <td>103.0</td>\n",
              "      <td>50.0</td>\n",
              "      <td>288.0</td>\n",
              "      <td>0.0</td>\n",
              "      <td>0.0</td>\n",
              "      <td>0.0</td>\n",
              "      <td>0.0</td>\n",
              "    </tr>\n",
              "  </tbody>\n",
              "</table>\n",
              "<p>5 rows × 49 columns</p>\n",
              "</div>\n",
              "      <button class=\"colab-df-convert\" onclick=\"convertToInteractive('df-d9974ecd-de56-443a-96de-339d5db96b5f')\"\n",
              "              title=\"Convert this dataframe to an interactive table.\"\n",
              "              style=\"display:none;\">\n",
              "        \n",
              "  <svg xmlns=\"http://www.w3.org/2000/svg\" height=\"24px\"viewBox=\"0 0 24 24\"\n",
              "       width=\"24px\">\n",
              "    <path d=\"M0 0h24v24H0V0z\" fill=\"none\"/>\n",
              "    <path d=\"M18.56 5.44l.94 2.06.94-2.06 2.06-.94-2.06-.94-.94-2.06-.94 2.06-2.06.94zm-11 1L8.5 8.5l.94-2.06 2.06-.94-2.06-.94L8.5 2.5l-.94 2.06-2.06.94zm10 10l.94 2.06.94-2.06 2.06-.94-2.06-.94-.94-2.06-.94 2.06-2.06.94z\"/><path d=\"M17.41 7.96l-1.37-1.37c-.4-.4-.92-.59-1.43-.59-.52 0-1.04.2-1.43.59L10.3 9.45l-7.72 7.72c-.78.78-.78 2.05 0 2.83L4 21.41c.39.39.9.59 1.41.59.51 0 1.02-.2 1.41-.59l7.78-7.78 2.81-2.81c.8-.78.8-2.07 0-2.86zM5.41 20L4 18.59l7.72-7.72 1.47 1.35L5.41 20z\"/>\n",
              "  </svg>\n",
              "      </button>\n",
              "      \n",
              "  <style>\n",
              "    .colab-df-container {\n",
              "      display:flex;\n",
              "      flex-wrap:wrap;\n",
              "      gap: 12px;\n",
              "    }\n",
              "\n",
              "    .colab-df-convert {\n",
              "      background-color: #E8F0FE;\n",
              "      border: none;\n",
              "      border-radius: 50%;\n",
              "      cursor: pointer;\n",
              "      display: none;\n",
              "      fill: #1967D2;\n",
              "      height: 32px;\n",
              "      padding: 0 0 0 0;\n",
              "      width: 32px;\n",
              "    }\n",
              "\n",
              "    .colab-df-convert:hover {\n",
              "      background-color: #E2EBFA;\n",
              "      box-shadow: 0px 1px 2px rgba(60, 64, 67, 0.3), 0px 1px 3px 1px rgba(60, 64, 67, 0.15);\n",
              "      fill: #174EA6;\n",
              "    }\n",
              "\n",
              "    [theme=dark] .colab-df-convert {\n",
              "      background-color: #3B4455;\n",
              "      fill: #D2E3FC;\n",
              "    }\n",
              "\n",
              "    [theme=dark] .colab-df-convert:hover {\n",
              "      background-color: #434B5C;\n",
              "      box-shadow: 0px 1px 3px 1px rgba(0, 0, 0, 0.15);\n",
              "      filter: drop-shadow(0px 1px 2px rgba(0, 0, 0, 0.3));\n",
              "      fill: #FFFFFF;\n",
              "    }\n",
              "  </style>\n",
              "\n",
              "      <script>\n",
              "        const buttonEl =\n",
              "          document.querySelector('#df-d9974ecd-de56-443a-96de-339d5db96b5f button.colab-df-convert');\n",
              "        buttonEl.style.display =\n",
              "          google.colab.kernel.accessAllowed ? 'block' : 'none';\n",
              "\n",
              "        async function convertToInteractive(key) {\n",
              "          const element = document.querySelector('#df-d9974ecd-de56-443a-96de-339d5db96b5f');\n",
              "          const dataTable =\n",
              "            await google.colab.kernel.invokeFunction('convertToInteractive',\n",
              "                                                     [key], {});\n",
              "          if (!dataTable) return;\n",
              "\n",
              "          const docLinkHtml = 'Like what you see? Visit the ' +\n",
              "            '<a target=\"_blank\" href=https://colab.research.google.com/notebooks/data_table.ipynb>data table notebook</a>'\n",
              "            + ' to learn more about interactive tables.';\n",
              "          element.innerHTML = '';\n",
              "          dataTable['output_type'] = 'display_data';\n",
              "          await google.colab.output.renderOutput(dataTable, element);\n",
              "          const docLink = document.createElement('div');\n",
              "          docLink.innerHTML = docLinkHtml;\n",
              "          element.appendChild(docLink);\n",
              "        }\n",
              "      </script>\n",
              "    </div>\n",
              "  </div>\n",
              "  "
            ]
          },
          "metadata": {},
          "execution_count": 1
        }
      ],
      "source": [
        "#print the first five rows\n",
        "import pandas as pd\n",
        "import numpy as np\n",
        "data=pd.read_csv('/content/insurance.csv/finalapi.csv')\n",
        "data.head()"
      ]
    },
    {
      "cell_type": "code",
      "source": [
        "#quick summary of the dataset\n",
        "data.shape"
      ],
      "metadata": {
        "colab": {
          "base_uri": "https://localhost:8080/"
        },
        "id": "baq5S1L5PaMV",
        "outputId": "b28151c1-16ee-41f3-b6f1-7e0767bf392b"
      },
      "execution_count": 2,
      "outputs": [
        {
          "output_type": "execute_result",
          "data": {
            "text/plain": [
              "(56426, 49)"
            ]
          },
          "metadata": {},
          "execution_count": 2
        }
      ]
    },
    {
      "cell_type": "code",
      "source": [
        "data.describe()"
      ],
      "metadata": {
        "colab": {
          "base_uri": "https://localhost:8080/",
          "height": 394
        },
        "id": "u4tCFBwdPjhw",
        "outputId": "c4f234d0-a28e-4456-fbe4-8b45d8b5c607"
      },
      "execution_count": 3,
      "outputs": [
        {
          "output_type": "execute_result",
          "data": {
            "text/plain": [
              "          AGENCY_ID  PRIMARY_AGENCY_ID  STAT_PROFILE_DATE_YEAR  \\\n",
              "count  56426.000000       56426.000000            56426.000000   \n",
              "mean    1291.219615       19942.957183             2010.134672   \n",
              "std      709.813455       37556.908070                3.144258   \n",
              "min        3.000000           3.000000             2005.000000   \n",
              "25%      690.000000        1149.000000             2007.000000   \n",
              "50%     1297.000000        1981.000000             2010.000000   \n",
              "75%     1876.000000        7254.000000             2013.000000   \n",
              "max     2485.000000       99999.000000             2015.000000   \n",
              "\n",
              "       RETENTION_POLY_QTY  POLY_INFORCE_QTY  PREV_POLY_INFORCE_QTY  \\\n",
              "count        56426.000000       56426.00000           56426.000000   \n",
              "mean           174.619448         192.35411            6368.823592   \n",
              "std            815.031102         873.91283           24025.373564   \n",
              "min              0.000000           0.00000               0.000000   \n",
              "25%              0.000000           0.00000               0.000000   \n",
              "50%              0.000000           0.00000               0.000000   \n",
              "75%             24.000000          33.00000              73.000000   \n",
              "max          21979.000000       22968.00000           99999.000000   \n",
              "\n",
              "       NB_WRTN_PREM_AMT  WRTN_PREM_AMT  PREV_WRTN_PREM_AMT  PRD_ERND_PREM_AMT  \\\n",
              "count      56426.000000   5.642600e+04        5.642600e+04       5.642600e+04   \n",
              "mean        2122.287493   1.992186e+04        2.610143e+04       1.982300e+04   \n",
              "std         9625.606143   7.213575e+04        7.599941e+04       7.225019e+04   \n",
              "min            0.000000  -6.976827e+04       -8.024684e+04      -8.388777e+04   \n",
              "25%            0.000000   0.000000e+00        1.140150e+02       5.732000e+01   \n",
              "50%            0.000000   1.061730e+03        1.681765e+03       1.122175e+03   \n",
              "75%          403.000000   7.723250e+03        1.330128e+04       7.712140e+03   \n",
              "max       351952.000000   1.715742e+06        1.904570e+06       1.780498e+06   \n",
              "\n",
              "       ...  PL_BOUND_CT_ELINKS  PL_QUO_CT_ELINKS  PL_BOUND_CT_PLRANK  \\\n",
              "count  ...        56425.000000      56425.000000        56425.000000   \n",
              "mean   ...        27313.082765      27363.597944        27316.582348   \n",
              "std    ...        44555.720880      44526.328042        44553.582282   \n",
              "min    ...            0.000000          0.000000            0.000000   \n",
              "25%    ...            0.000000          0.000000            0.000000   \n",
              "50%    ...            0.000000          0.000000            0.000000   \n",
              "75%    ...        99999.000000      99999.000000        99999.000000   \n",
              "max    ...        99999.000000      99999.000000        99999.000000   \n",
              "\n",
              "       PL_QUO_CT_PLRANK  PL_BOUND_CT_eQTte  PL_QUO_CT_eQTte  \\\n",
              "count      56425.000000       56425.000000     56425.000000   \n",
              "mean       27409.398121       27353.929056     27496.699708   \n",
              "std        44497.781987       44530.727475     44443.803313   \n",
              "min            0.000000           0.000000         0.000000   \n",
              "25%            0.000000          15.000000        88.000000   \n",
              "50%            0.000000          60.000000       288.000000   \n",
              "75%        99999.000000       99999.000000     99999.000000   \n",
              "max        99999.000000       99999.000000     99999.000000   \n",
              "\n",
              "       PL_BOUND_CT_APPLIED  PL_QUO_CT_APPLIED  PL_BOUND_CT_TRANSACTNOW  \\\n",
              "count         56425.000000       56425.000000             56425.000000   \n",
              "mean          27313.282091       27319.881719             27312.110837   \n",
              "std           44555.598825       44551.573652             44556.316225   \n",
              "min               0.000000           0.000000                 0.000000   \n",
              "25%               0.000000           0.000000                 0.000000   \n",
              "50%               0.000000           0.000000                 0.000000   \n",
              "75%           99999.000000       99999.000000             99999.000000   \n",
              "max           99999.000000       99999.000000             99999.000000   \n",
              "\n",
              "       PL_QUO_CT_TRANSACTNOW  \n",
              "count           56425.000000  \n",
              "mean            27312.346265  \n",
              "std             44556.171970  \n",
              "min                 0.000000  \n",
              "25%                 0.000000  \n",
              "50%                 0.000000  \n",
              "75%             99999.000000  \n",
              "max             99999.000000  \n",
              "\n",
              "[8 rows x 44 columns]"
            ],
            "text/html": [
              "\n",
              "  <div id=\"df-a5ff50bc-cc87-476d-bfbc-2fb768c22bfb\">\n",
              "    <div class=\"colab-df-container\">\n",
              "      <div>\n",
              "<style scoped>\n",
              "    .dataframe tbody tr th:only-of-type {\n",
              "        vertical-align: middle;\n",
              "    }\n",
              "\n",
              "    .dataframe tbody tr th {\n",
              "        vertical-align: top;\n",
              "    }\n",
              "\n",
              "    .dataframe thead th {\n",
              "        text-align: right;\n",
              "    }\n",
              "</style>\n",
              "<table border=\"1\" class=\"dataframe\">\n",
              "  <thead>\n",
              "    <tr style=\"text-align: right;\">\n",
              "      <th></th>\n",
              "      <th>AGENCY_ID</th>\n",
              "      <th>PRIMARY_AGENCY_ID</th>\n",
              "      <th>STAT_PROFILE_DATE_YEAR</th>\n",
              "      <th>RETENTION_POLY_QTY</th>\n",
              "      <th>POLY_INFORCE_QTY</th>\n",
              "      <th>PREV_POLY_INFORCE_QTY</th>\n",
              "      <th>NB_WRTN_PREM_AMT</th>\n",
              "      <th>WRTN_PREM_AMT</th>\n",
              "      <th>PREV_WRTN_PREM_AMT</th>\n",
              "      <th>PRD_ERND_PREM_AMT</th>\n",
              "      <th>...</th>\n",
              "      <th>PL_BOUND_CT_ELINKS</th>\n",
              "      <th>PL_QUO_CT_ELINKS</th>\n",
              "      <th>PL_BOUND_CT_PLRANK</th>\n",
              "      <th>PL_QUO_CT_PLRANK</th>\n",
              "      <th>PL_BOUND_CT_eQTte</th>\n",
              "      <th>PL_QUO_CT_eQTte</th>\n",
              "      <th>PL_BOUND_CT_APPLIED</th>\n",
              "      <th>PL_QUO_CT_APPLIED</th>\n",
              "      <th>PL_BOUND_CT_TRANSACTNOW</th>\n",
              "      <th>PL_QUO_CT_TRANSACTNOW</th>\n",
              "    </tr>\n",
              "  </thead>\n",
              "  <tbody>\n",
              "    <tr>\n",
              "      <th>count</th>\n",
              "      <td>56426.000000</td>\n",
              "      <td>56426.000000</td>\n",
              "      <td>56426.000000</td>\n",
              "      <td>56426.000000</td>\n",
              "      <td>56426.00000</td>\n",
              "      <td>56426.000000</td>\n",
              "      <td>56426.000000</td>\n",
              "      <td>5.642600e+04</td>\n",
              "      <td>5.642600e+04</td>\n",
              "      <td>5.642600e+04</td>\n",
              "      <td>...</td>\n",
              "      <td>56425.000000</td>\n",
              "      <td>56425.000000</td>\n",
              "      <td>56425.000000</td>\n",
              "      <td>56425.000000</td>\n",
              "      <td>56425.000000</td>\n",
              "      <td>56425.000000</td>\n",
              "      <td>56425.000000</td>\n",
              "      <td>56425.000000</td>\n",
              "      <td>56425.000000</td>\n",
              "      <td>56425.000000</td>\n",
              "    </tr>\n",
              "    <tr>\n",
              "      <th>mean</th>\n",
              "      <td>1291.219615</td>\n",
              "      <td>19942.957183</td>\n",
              "      <td>2010.134672</td>\n",
              "      <td>174.619448</td>\n",
              "      <td>192.35411</td>\n",
              "      <td>6368.823592</td>\n",
              "      <td>2122.287493</td>\n",
              "      <td>1.992186e+04</td>\n",
              "      <td>2.610143e+04</td>\n",
              "      <td>1.982300e+04</td>\n",
              "      <td>...</td>\n",
              "      <td>27313.082765</td>\n",
              "      <td>27363.597944</td>\n",
              "      <td>27316.582348</td>\n",
              "      <td>27409.398121</td>\n",
              "      <td>27353.929056</td>\n",
              "      <td>27496.699708</td>\n",
              "      <td>27313.282091</td>\n",
              "      <td>27319.881719</td>\n",
              "      <td>27312.110837</td>\n",
              "      <td>27312.346265</td>\n",
              "    </tr>\n",
              "    <tr>\n",
              "      <th>std</th>\n",
              "      <td>709.813455</td>\n",
              "      <td>37556.908070</td>\n",
              "      <td>3.144258</td>\n",
              "      <td>815.031102</td>\n",
              "      <td>873.91283</td>\n",
              "      <td>24025.373564</td>\n",
              "      <td>9625.606143</td>\n",
              "      <td>7.213575e+04</td>\n",
              "      <td>7.599941e+04</td>\n",
              "      <td>7.225019e+04</td>\n",
              "      <td>...</td>\n",
              "      <td>44555.720880</td>\n",
              "      <td>44526.328042</td>\n",
              "      <td>44553.582282</td>\n",
              "      <td>44497.781987</td>\n",
              "      <td>44530.727475</td>\n",
              "      <td>44443.803313</td>\n",
              "      <td>44555.598825</td>\n",
              "      <td>44551.573652</td>\n",
              "      <td>44556.316225</td>\n",
              "      <td>44556.171970</td>\n",
              "    </tr>\n",
              "    <tr>\n",
              "      <th>min</th>\n",
              "      <td>3.000000</td>\n",
              "      <td>3.000000</td>\n",
              "      <td>2005.000000</td>\n",
              "      <td>0.000000</td>\n",
              "      <td>0.00000</td>\n",
              "      <td>0.000000</td>\n",
              "      <td>0.000000</td>\n",
              "      <td>-6.976827e+04</td>\n",
              "      <td>-8.024684e+04</td>\n",
              "      <td>-8.388777e+04</td>\n",
              "      <td>...</td>\n",
              "      <td>0.000000</td>\n",
              "      <td>0.000000</td>\n",
              "      <td>0.000000</td>\n",
              "      <td>0.000000</td>\n",
              "      <td>0.000000</td>\n",
              "      <td>0.000000</td>\n",
              "      <td>0.000000</td>\n",
              "      <td>0.000000</td>\n",
              "      <td>0.000000</td>\n",
              "      <td>0.000000</td>\n",
              "    </tr>\n",
              "    <tr>\n",
              "      <th>25%</th>\n",
              "      <td>690.000000</td>\n",
              "      <td>1149.000000</td>\n",
              "      <td>2007.000000</td>\n",
              "      <td>0.000000</td>\n",
              "      <td>0.00000</td>\n",
              "      <td>0.000000</td>\n",
              "      <td>0.000000</td>\n",
              "      <td>0.000000e+00</td>\n",
              "      <td>1.140150e+02</td>\n",
              "      <td>5.732000e+01</td>\n",
              "      <td>...</td>\n",
              "      <td>0.000000</td>\n",
              "      <td>0.000000</td>\n",
              "      <td>0.000000</td>\n",
              "      <td>0.000000</td>\n",
              "      <td>15.000000</td>\n",
              "      <td>88.000000</td>\n",
              "      <td>0.000000</td>\n",
              "      <td>0.000000</td>\n",
              "      <td>0.000000</td>\n",
              "      <td>0.000000</td>\n",
              "    </tr>\n",
              "    <tr>\n",
              "      <th>50%</th>\n",
              "      <td>1297.000000</td>\n",
              "      <td>1981.000000</td>\n",
              "      <td>2010.000000</td>\n",
              "      <td>0.000000</td>\n",
              "      <td>0.00000</td>\n",
              "      <td>0.000000</td>\n",
              "      <td>0.000000</td>\n",
              "      <td>1.061730e+03</td>\n",
              "      <td>1.681765e+03</td>\n",
              "      <td>1.122175e+03</td>\n",
              "      <td>...</td>\n",
              "      <td>0.000000</td>\n",
              "      <td>0.000000</td>\n",
              "      <td>0.000000</td>\n",
              "      <td>0.000000</td>\n",
              "      <td>60.000000</td>\n",
              "      <td>288.000000</td>\n",
              "      <td>0.000000</td>\n",
              "      <td>0.000000</td>\n",
              "      <td>0.000000</td>\n",
              "      <td>0.000000</td>\n",
              "    </tr>\n",
              "    <tr>\n",
              "      <th>75%</th>\n",
              "      <td>1876.000000</td>\n",
              "      <td>7254.000000</td>\n",
              "      <td>2013.000000</td>\n",
              "      <td>24.000000</td>\n",
              "      <td>33.00000</td>\n",
              "      <td>73.000000</td>\n",
              "      <td>403.000000</td>\n",
              "      <td>7.723250e+03</td>\n",
              "      <td>1.330128e+04</td>\n",
              "      <td>7.712140e+03</td>\n",
              "      <td>...</td>\n",
              "      <td>99999.000000</td>\n",
              "      <td>99999.000000</td>\n",
              "      <td>99999.000000</td>\n",
              "      <td>99999.000000</td>\n",
              "      <td>99999.000000</td>\n",
              "      <td>99999.000000</td>\n",
              "      <td>99999.000000</td>\n",
              "      <td>99999.000000</td>\n",
              "      <td>99999.000000</td>\n",
              "      <td>99999.000000</td>\n",
              "    </tr>\n",
              "    <tr>\n",
              "      <th>max</th>\n",
              "      <td>2485.000000</td>\n",
              "      <td>99999.000000</td>\n",
              "      <td>2015.000000</td>\n",
              "      <td>21979.000000</td>\n",
              "      <td>22968.00000</td>\n",
              "      <td>99999.000000</td>\n",
              "      <td>351952.000000</td>\n",
              "      <td>1.715742e+06</td>\n",
              "      <td>1.904570e+06</td>\n",
              "      <td>1.780498e+06</td>\n",
              "      <td>...</td>\n",
              "      <td>99999.000000</td>\n",
              "      <td>99999.000000</td>\n",
              "      <td>99999.000000</td>\n",
              "      <td>99999.000000</td>\n",
              "      <td>99999.000000</td>\n",
              "      <td>99999.000000</td>\n",
              "      <td>99999.000000</td>\n",
              "      <td>99999.000000</td>\n",
              "      <td>99999.000000</td>\n",
              "      <td>99999.000000</td>\n",
              "    </tr>\n",
              "  </tbody>\n",
              "</table>\n",
              "<p>8 rows × 44 columns</p>\n",
              "</div>\n",
              "      <button class=\"colab-df-convert\" onclick=\"convertToInteractive('df-a5ff50bc-cc87-476d-bfbc-2fb768c22bfb')\"\n",
              "              title=\"Convert this dataframe to an interactive table.\"\n",
              "              style=\"display:none;\">\n",
              "        \n",
              "  <svg xmlns=\"http://www.w3.org/2000/svg\" height=\"24px\"viewBox=\"0 0 24 24\"\n",
              "       width=\"24px\">\n",
              "    <path d=\"M0 0h24v24H0V0z\" fill=\"none\"/>\n",
              "    <path d=\"M18.56 5.44l.94 2.06.94-2.06 2.06-.94-2.06-.94-.94-2.06-.94 2.06-2.06.94zm-11 1L8.5 8.5l.94-2.06 2.06-.94-2.06-.94L8.5 2.5l-.94 2.06-2.06.94zm10 10l.94 2.06.94-2.06 2.06-.94-2.06-.94-.94-2.06-.94 2.06-2.06.94z\"/><path d=\"M17.41 7.96l-1.37-1.37c-.4-.4-.92-.59-1.43-.59-.52 0-1.04.2-1.43.59L10.3 9.45l-7.72 7.72c-.78.78-.78 2.05 0 2.83L4 21.41c.39.39.9.59 1.41.59.51 0 1.02-.2 1.41-.59l7.78-7.78 2.81-2.81c.8-.78.8-2.07 0-2.86zM5.41 20L4 18.59l7.72-7.72 1.47 1.35L5.41 20z\"/>\n",
              "  </svg>\n",
              "      </button>\n",
              "      \n",
              "  <style>\n",
              "    .colab-df-container {\n",
              "      display:flex;\n",
              "      flex-wrap:wrap;\n",
              "      gap: 12px;\n",
              "    }\n",
              "\n",
              "    .colab-df-convert {\n",
              "      background-color: #E8F0FE;\n",
              "      border: none;\n",
              "      border-radius: 50%;\n",
              "      cursor: pointer;\n",
              "      display: none;\n",
              "      fill: #1967D2;\n",
              "      height: 32px;\n",
              "      padding: 0 0 0 0;\n",
              "      width: 32px;\n",
              "    }\n",
              "\n",
              "    .colab-df-convert:hover {\n",
              "      background-color: #E2EBFA;\n",
              "      box-shadow: 0px 1px 2px rgba(60, 64, 67, 0.3), 0px 1px 3px 1px rgba(60, 64, 67, 0.15);\n",
              "      fill: #174EA6;\n",
              "    }\n",
              "\n",
              "    [theme=dark] .colab-df-convert {\n",
              "      background-color: #3B4455;\n",
              "      fill: #D2E3FC;\n",
              "    }\n",
              "\n",
              "    [theme=dark] .colab-df-convert:hover {\n",
              "      background-color: #434B5C;\n",
              "      box-shadow: 0px 1px 3px 1px rgba(0, 0, 0, 0.15);\n",
              "      filter: drop-shadow(0px 1px 2px rgba(0, 0, 0, 0.3));\n",
              "      fill: #FFFFFF;\n",
              "    }\n",
              "  </style>\n",
              "\n",
              "      <script>\n",
              "        const buttonEl =\n",
              "          document.querySelector('#df-a5ff50bc-cc87-476d-bfbc-2fb768c22bfb button.colab-df-convert');\n",
              "        buttonEl.style.display =\n",
              "          google.colab.kernel.accessAllowed ? 'block' : 'none';\n",
              "\n",
              "        async function convertToInteractive(key) {\n",
              "          const element = document.querySelector('#df-a5ff50bc-cc87-476d-bfbc-2fb768c22bfb');\n",
              "          const dataTable =\n",
              "            await google.colab.kernel.invokeFunction('convertToInteractive',\n",
              "                                                     [key], {});\n",
              "          if (!dataTable) return;\n",
              "\n",
              "          const docLinkHtml = 'Like what you see? Visit the ' +\n",
              "            '<a target=\"_blank\" href=https://colab.research.google.com/notebooks/data_table.ipynb>data table notebook</a>'\n",
              "            + ' to learn more about interactive tables.';\n",
              "          element.innerHTML = '';\n",
              "          dataTable['output_type'] = 'display_data';\n",
              "          await google.colab.output.renderOutput(dataTable, element);\n",
              "          const docLink = document.createElement('div');\n",
              "          docLink.innerHTML = docLinkHtml;\n",
              "          element.appendChild(docLink);\n",
              "        }\n",
              "      </script>\n",
              "    </div>\n",
              "  </div>\n",
              "  "
            ]
          },
          "metadata": {},
          "execution_count": 3
        }
      ]
    },
    {
      "cell_type": "code",
      "source": [
        "#the columns and their data types\n",
        "data.info"
      ],
      "metadata": {
        "colab": {
          "base_uri": "https://localhost:8080/"
        },
        "id": "RYGkDKRIP0DU",
        "outputId": "4e0ca007-9af8-4cbe-e15d-e1a12a689d28"
      },
      "execution_count": 4,
      "outputs": [
        {
          "output_type": "execute_result",
          "data": {
            "text/plain": [
              "<bound method DataFrame.info of        AGENCY_ID  PRIMARY_AGENCY_ID   PROD_ABBR PROD_LINE STATE_ABBR  \\\n",
              "0              3                  3  BOILERMACH        CL         IN   \n",
              "1              3                  3  BOILERMACH        CL         IN   \n",
              "2              3                  3  BOILERMACH        CL         IN   \n",
              "3              3                  3  BOILERMACH        CL         IN   \n",
              "4              3                  3  BOILERMACH        CL         IN   \n",
              "...          ...                ...         ...       ...        ...   \n",
              "56421       2485               2485  GENERALIAB        CL         OH   \n",
              "56422       2485               2485  GENERALIAB        CL         OH   \n",
              "56423       2485               2485  GENERALIAB        CL         OH   \n",
              "56424       2485               2485  GENERALIAB        CL         OH   \n",
              "56425       2485               2485  GENERALIAB        CL         OH   \n",
              "\n",
              "       STAT_PROFILE_DATE_YEAR  RETENTION_POLY_QTY  POLY_INFORCE_QTY  \\\n",
              "0                        2005                   0                 0   \n",
              "1                        2006                   0                 0   \n",
              "2                        2007                   0                 0   \n",
              "3                        2008                   0                 0   \n",
              "4                        2009                   0                 0   \n",
              "...                       ...                 ...               ...   \n",
              "56421                    2008                   0                 0   \n",
              "56422                    2009                   0                 0   \n",
              "56423                    2010                   0                 0   \n",
              "56424                    2011                   0                 0   \n",
              "56425                    2012                   0                 0   \n",
              "\n",
              "       PREV_POLY_INFORCE_QTY  NB_WRTN_PREM_AMT  ...  PL_BOUND_CT_ELINKS  \\\n",
              "0                          0              40.0  ...                 0.0   \n",
              "1                          0             151.0  ...                 0.0   \n",
              "2                          0              40.0  ...                 0.0   \n",
              "3                          0              69.0  ...                 0.0   \n",
              "4                          0              28.0  ...                 0.0   \n",
              "...                      ...               ...  ...                 ...   \n",
              "56421                      0            2498.0  ...                 0.0   \n",
              "56422                      0            2516.0  ...                 0.0   \n",
              "56423                      0            1707.0  ...                 0.0   \n",
              "56424                      0            1130.0  ...                 0.0   \n",
              "56425                      0            1442.0  ...                 NaN   \n",
              "\n",
              "       PL_QUO_CT_ELINKS  PL_BOUND_CT_PLRANK  PL_QUO_CT_PLRANK  \\\n",
              "0                   0.0                 0.0             103.0   \n",
              "1                   0.0                 0.0             103.0   \n",
              "2                   0.0                 0.0             103.0   \n",
              "3                   0.0                 0.0             103.0   \n",
              "4                   0.0                 0.0             103.0   \n",
              "...                 ...                 ...               ...   \n",
              "56421               0.0                 0.0               0.0   \n",
              "56422               0.0                 0.0               0.0   \n",
              "56423               0.0                 0.0               0.0   \n",
              "56424               0.0                 0.0               0.0   \n",
              "56425               NaN                 NaN               NaN   \n",
              "\n",
              "       PL_BOUND_CT_eQTte  PL_QUO_CT_eQTte  PL_BOUND_CT_APPLIED  \\\n",
              "0                   50.0            288.0                  0.0   \n",
              "1                   50.0            288.0                  0.0   \n",
              "2                   50.0            288.0                  0.0   \n",
              "3                   50.0            288.0                  0.0   \n",
              "4                   50.0            288.0                  0.0   \n",
              "...                  ...              ...                  ...   \n",
              "56421               80.0            265.0                  0.0   \n",
              "56422               80.0            265.0                  0.0   \n",
              "56423               80.0            265.0                  0.0   \n",
              "56424               80.0            265.0                  0.0   \n",
              "56425                NaN              NaN                  NaN   \n",
              "\n",
              "       PL_QUO_CT_APPLIED  PL_BOUND_CT_TRANSACTNOW  PL_QUO_CT_TRANSACTNOW  \n",
              "0                    0.0                      0.0                    0.0  \n",
              "1                    0.0                      0.0                    0.0  \n",
              "2                    0.0                      0.0                    0.0  \n",
              "3                    0.0                      0.0                    0.0  \n",
              "4                    0.0                      0.0                    0.0  \n",
              "...                  ...                      ...                    ...  \n",
              "56421                0.0                      0.0                    0.0  \n",
              "56422                0.0                      0.0                    0.0  \n",
              "56423                0.0                      0.0                    0.0  \n",
              "56424                0.0                      0.0                    0.0  \n",
              "56425                NaN                      NaN                    NaN  \n",
              "\n",
              "[56426 rows x 49 columns]>"
            ]
          },
          "metadata": {},
          "execution_count": 4
        }
      ]
    },
    {
      "cell_type": "code",
      "source": [
        "#any missing values in our dataset or not\n",
        "data.isnull().sum()"
      ],
      "metadata": {
        "colab": {
          "base_uri": "https://localhost:8080/"
        },
        "id": "bYuqkR3gP0E6",
        "outputId": "115706ef-bf60-46ef-efde-425412eb842a"
      },
      "execution_count": 51,
      "outputs": [
        {
          "output_type": "execute_result",
          "data": {
            "text/plain": [
              "RM         0\n",
              "LSTAT      0\n",
              "PTRATIO    0\n",
              "MEDV       0\n",
              "dtype: int64"
            ]
          },
          "metadata": {},
          "execution_count": 51
        }
      ]
    },
    {
      "cell_type": "code",
      "source": [
        "from google.colab import drive\n",
        "drive.mount('/content/drive')"
      ],
      "metadata": {
        "id": "Bj--y5Jganva"
      },
      "execution_count": null,
      "outputs": []
    },
    {
      "cell_type": "code",
      "source": [
        "#for filling the missing valuesor to change or balance\n",
        "data[\"PL_QUO_CT_APPLIED\"].fillna(\"No PL_QUO_CT_APPLIED\", inplace = True) \n",
        "    \n",
        "data.isnull().sum()"
      ],
      "metadata": {
        "colab": {
          "base_uri": "https://localhost:8080/"
        },
        "id": "gjccvFlzQ9BE",
        "outputId": "f26337e6-92d1-49ed-e1ec-a97f7a657b5e"
      },
      "execution_count": 6,
      "outputs": [
        {
          "output_type": "execute_result",
          "data": {
            "text/plain": [
              "AGENCY_ID                    0\n",
              "PRIMARY_AGENCY_ID            0\n",
              "PROD_ABBR                    0\n",
              "PROD_LINE                    0\n",
              "STATE_ABBR                   0\n",
              "STAT_PROFILE_DATE_YEAR       0\n",
              "RETENTION_POLY_QTY           0\n",
              "POLY_INFORCE_QTY             0\n",
              "PREV_POLY_INFORCE_QTY        0\n",
              "NB_WRTN_PREM_AMT             0\n",
              "WRTN_PREM_AMT                0\n",
              "PREV_WRTN_PREM_AMT           0\n",
              "PRD_ERND_PREM_AMT            0\n",
              "PRD_INCRD_LOSSES_AMT         0\n",
              "MONTHS                       0\n",
              "RETENTION_RATIO              0\n",
              "LOSS_RATIO                   0\n",
              "LOSS_RATIO_3YR               0\n",
              "GROWTH_RATE_3YR              0\n",
              "AGENCY_APPOINTMENT_YEAR      0\n",
              "ACTIVE_PRODUCERS             0\n",
              "MAX_AGE                      0\n",
              "MIN_AGE                      0\n",
              "VENDOR_IND                   0\n",
              "VENDOR                       0\n",
              "PL_START_YEAR                0\n",
              "PL_END_YEAR                  0\n",
              "COMMISIONS_START_YEAR        0\n",
              "COMMISIONS_END_YEAR          0\n",
              "CL_START_YEAR                0\n",
              "CL_END_YEAR                  0\n",
              "ACTIVITY_NOTES_START_YEAR    0\n",
              "ACTIVITY_NOTES_END_YEAR      0\n",
              "CL_BOUND_CT_MDS              1\n",
              "CL_QUO_CT_MDS                1\n",
              "CL_BOUND_CT_SBZ              1\n",
              "CL_QUO_CT_SBZ                1\n",
              "CL_BOUND_CT_eQT              1\n",
              "CL_QUO_CT_eQT                1\n",
              "PL_BOUND_CT_ELINKS           1\n",
              "PL_QUO_CT_ELINKS             1\n",
              "PL_BOUND_CT_PLRANK           1\n",
              "PL_QUO_CT_PLRANK             1\n",
              "PL_BOUND_CT_eQTte            1\n",
              "PL_QUO_CT_eQTte              1\n",
              "PL_BOUND_CT_APPLIED          1\n",
              "PL_QUO_CT_APPLIED            0\n",
              "PL_BOUND_CT_TRANSACTNOW      1\n",
              "PL_QUO_CT_TRANSACTNOW        1\n",
              "dtype: int64"
            ]
          },
          "metadata": {},
          "execution_count": 6
        }
      ]
    },
    {
      "cell_type": "code",
      "source": [
        "#Univariate linear regression\n",
        "import numpy as np\n",
        "import pandas as pd\n",
        "import matplotlib.pyplot as plt\n",
        "\n",
        "from sklearn import linear_model\n",
        "data = pd.read_csv(\"/content/boston.csv/housing.csv\")\n",
        "data.head()"
      ],
      "metadata": {
        "colab": {
          "base_uri": "https://localhost:8080/",
          "height": 206
        },
        "id": "8S_51G1mSXla",
        "outputId": "bcc44c9d-b76f-4d30-aa25-124e4a7c617a"
      },
      "execution_count": 7,
      "outputs": [
        {
          "output_type": "execute_result",
          "data": {
            "text/plain": [
              "      RM  LSTAT  PTRATIO      MEDV\n",
              "0  6.575   4.98     15.3  504000.0\n",
              "1  6.421   9.14     17.8  453600.0\n",
              "2  7.185   4.03     17.8  728700.0\n",
              "3  6.998   2.94     18.7  701400.0\n",
              "4  7.147   5.33     18.7  760200.0"
            ],
            "text/html": [
              "\n",
              "  <div id=\"df-19abf3fd-6c53-4cc5-bff9-41a8086d04b3\">\n",
              "    <div class=\"colab-df-container\">\n",
              "      <div>\n",
              "<style scoped>\n",
              "    .dataframe tbody tr th:only-of-type {\n",
              "        vertical-align: middle;\n",
              "    }\n",
              "\n",
              "    .dataframe tbody tr th {\n",
              "        vertical-align: top;\n",
              "    }\n",
              "\n",
              "    .dataframe thead th {\n",
              "        text-align: right;\n",
              "    }\n",
              "</style>\n",
              "<table border=\"1\" class=\"dataframe\">\n",
              "  <thead>\n",
              "    <tr style=\"text-align: right;\">\n",
              "      <th></th>\n",
              "      <th>RM</th>\n",
              "      <th>LSTAT</th>\n",
              "      <th>PTRATIO</th>\n",
              "      <th>MEDV</th>\n",
              "    </tr>\n",
              "  </thead>\n",
              "  <tbody>\n",
              "    <tr>\n",
              "      <th>0</th>\n",
              "      <td>6.575</td>\n",
              "      <td>4.98</td>\n",
              "      <td>15.3</td>\n",
              "      <td>504000.0</td>\n",
              "    </tr>\n",
              "    <tr>\n",
              "      <th>1</th>\n",
              "      <td>6.421</td>\n",
              "      <td>9.14</td>\n",
              "      <td>17.8</td>\n",
              "      <td>453600.0</td>\n",
              "    </tr>\n",
              "    <tr>\n",
              "      <th>2</th>\n",
              "      <td>7.185</td>\n",
              "      <td>4.03</td>\n",
              "      <td>17.8</td>\n",
              "      <td>728700.0</td>\n",
              "    </tr>\n",
              "    <tr>\n",
              "      <th>3</th>\n",
              "      <td>6.998</td>\n",
              "      <td>2.94</td>\n",
              "      <td>18.7</td>\n",
              "      <td>701400.0</td>\n",
              "    </tr>\n",
              "    <tr>\n",
              "      <th>4</th>\n",
              "      <td>7.147</td>\n",
              "      <td>5.33</td>\n",
              "      <td>18.7</td>\n",
              "      <td>760200.0</td>\n",
              "    </tr>\n",
              "  </tbody>\n",
              "</table>\n",
              "</div>\n",
              "      <button class=\"colab-df-convert\" onclick=\"convertToInteractive('df-19abf3fd-6c53-4cc5-bff9-41a8086d04b3')\"\n",
              "              title=\"Convert this dataframe to an interactive table.\"\n",
              "              style=\"display:none;\">\n",
              "        \n",
              "  <svg xmlns=\"http://www.w3.org/2000/svg\" height=\"24px\"viewBox=\"0 0 24 24\"\n",
              "       width=\"24px\">\n",
              "    <path d=\"M0 0h24v24H0V0z\" fill=\"none\"/>\n",
              "    <path d=\"M18.56 5.44l.94 2.06.94-2.06 2.06-.94-2.06-.94-.94-2.06-.94 2.06-2.06.94zm-11 1L8.5 8.5l.94-2.06 2.06-.94-2.06-.94L8.5 2.5l-.94 2.06-2.06.94zm10 10l.94 2.06.94-2.06 2.06-.94-2.06-.94-.94-2.06-.94 2.06-2.06.94z\"/><path d=\"M17.41 7.96l-1.37-1.37c-.4-.4-.92-.59-1.43-.59-.52 0-1.04.2-1.43.59L10.3 9.45l-7.72 7.72c-.78.78-.78 2.05 0 2.83L4 21.41c.39.39.9.59 1.41.59.51 0 1.02-.2 1.41-.59l7.78-7.78 2.81-2.81c.8-.78.8-2.07 0-2.86zM5.41 20L4 18.59l7.72-7.72 1.47 1.35L5.41 20z\"/>\n",
              "  </svg>\n",
              "      </button>\n",
              "      \n",
              "  <style>\n",
              "    .colab-df-container {\n",
              "      display:flex;\n",
              "      flex-wrap:wrap;\n",
              "      gap: 12px;\n",
              "    }\n",
              "\n",
              "    .colab-df-convert {\n",
              "      background-color: #E8F0FE;\n",
              "      border: none;\n",
              "      border-radius: 50%;\n",
              "      cursor: pointer;\n",
              "      display: none;\n",
              "      fill: #1967D2;\n",
              "      height: 32px;\n",
              "      padding: 0 0 0 0;\n",
              "      width: 32px;\n",
              "    }\n",
              "\n",
              "    .colab-df-convert:hover {\n",
              "      background-color: #E2EBFA;\n",
              "      box-shadow: 0px 1px 2px rgba(60, 64, 67, 0.3), 0px 1px 3px 1px rgba(60, 64, 67, 0.15);\n",
              "      fill: #174EA6;\n",
              "    }\n",
              "\n",
              "    [theme=dark] .colab-df-convert {\n",
              "      background-color: #3B4455;\n",
              "      fill: #D2E3FC;\n",
              "    }\n",
              "\n",
              "    [theme=dark] .colab-df-convert:hover {\n",
              "      background-color: #434B5C;\n",
              "      box-shadow: 0px 1px 3px 1px rgba(0, 0, 0, 0.15);\n",
              "      filter: drop-shadow(0px 1px 2px rgba(0, 0, 0, 0.3));\n",
              "      fill: #FFFFFF;\n",
              "    }\n",
              "  </style>\n",
              "\n",
              "      <script>\n",
              "        const buttonEl =\n",
              "          document.querySelector('#df-19abf3fd-6c53-4cc5-bff9-41a8086d04b3 button.colab-df-convert');\n",
              "        buttonEl.style.display =\n",
              "          google.colab.kernel.accessAllowed ? 'block' : 'none';\n",
              "\n",
              "        async function convertToInteractive(key) {\n",
              "          const element = document.querySelector('#df-19abf3fd-6c53-4cc5-bff9-41a8086d04b3');\n",
              "          const dataTable =\n",
              "            await google.colab.kernel.invokeFunction('convertToInteractive',\n",
              "                                                     [key], {});\n",
              "          if (!dataTable) return;\n",
              "\n",
              "          const docLinkHtml = 'Like what you see? Visit the ' +\n",
              "            '<a target=\"_blank\" href=https://colab.research.google.com/notebooks/data_table.ipynb>data table notebook</a>'\n",
              "            + ' to learn more about interactive tables.';\n",
              "          element.innerHTML = '';\n",
              "          dataTable['output_type'] = 'display_data';\n",
              "          await google.colab.output.renderOutput(dataTable, element);\n",
              "          const docLink = document.createElement('div');\n",
              "          docLink.innerHTML = docLinkHtml;\n",
              "          element.appendChild(docLink);\n",
              "        }\n",
              "      </script>\n",
              "    </div>\n",
              "  </div>\n",
              "  "
            ]
          },
          "metadata": {},
          "execution_count": 7
        }
      ]
    },
    {
      "cell_type": "code",
      "source": [
        "#Create feature and target array from such given data\n",
        "\n",
        "X = data.drop('MEDV', axis=1).values\n",
        "y = data['MEDV'].values\n"
      ],
      "metadata": {
        "id": "LcurGdCJUmFX"
      },
      "execution_count": 11,
      "outputs": []
    },
    {
      "cell_type": "code",
      "source": [
        "\n",
        "X_rm=X[:,1]\n"
      ],
      "metadata": {
        "id": "4csAB_KEVI4l"
      },
      "execution_count": 38,
      "outputs": []
    },
    {
      "cell_type": "code",
      "source": [
        "type(X_rm), type(y)"
      ],
      "metadata": {
        "colab": {
          "base_uri": "https://localhost:8080/"
        },
        "id": "6nrYMmOLVsEg",
        "outputId": "cc8005d0-52ed-4712-ae85-412881aacecb"
      },
      "execution_count": 31,
      "outputs": [
        {
          "output_type": "execute_result",
          "data": {
            "text/plain": [
              "(numpy.ndarray, numpy.ndarray)"
            ]
          },
          "metadata": {},
          "execution_count": 31
        }
      ]
    },
    {
      "cell_type": "code",
      "source": [
        "X_rm.shape, y.shape\n",
        "     "
      ],
      "metadata": {
        "colab": {
          "base_uri": "https://localhost:8080/"
        },
        "id": "s70YeNHBV3QP",
        "outputId": "97796d84-478c-4a44-9729-c11bfeb4e768"
      },
      "execution_count": 39,
      "outputs": [
        {
          "output_type": "execute_result",
          "data": {
            "text/plain": [
              "((489,), (489, 1))"
            ]
          },
          "metadata": {},
          "execution_count": 39
        }
      ]
    },
    {
      "cell_type": "code",
      "source": [
        "X_rm = X_rm.reshape(-1,1)\n"
      ],
      "metadata": {
        "id": "8bqE-VGjWLhs"
      },
      "execution_count": 40,
      "outputs": []
    },
    {
      "cell_type": "code",
      "source": [
        "X_rm.shape, y.shape\n"
      ],
      "metadata": {
        "colab": {
          "base_uri": "https://localhost:8080/"
        },
        "id": "vEwLbAp6YOEn",
        "outputId": "a40c912b-a7be-4a6c-df4a-cfa34500ae58"
      },
      "execution_count": 42,
      "outputs": [
        {
          "output_type": "execute_result",
          "data": {
            "text/plain": [
              "((489, 1), (489, 1))"
            ]
          },
          "metadata": {},
          "execution_count": 42
        }
      ]
    },
    {
      "cell_type": "code",
      "source": [],
      "metadata": {
        "id": "T-xjDcwIYOGO"
      },
      "execution_count": null,
      "outputs": []
    },
    {
      "cell_type": "code",
      "source": [
        "plt.scatter(X_rm, y)\n",
        "plt.xlabel('Number of rooms')\n",
        "plt.ylabel('Value of house /1000($)')\n",
        "plt.show()\n"
      ],
      "metadata": {
        "colab": {
          "base_uri": "https://localhost:8080/",
          "height": 290
        },
        "id": "i9BNnfkAWVLc",
        "outputId": "819f3a64-b018-4de6-b78e-2af86212b41f"
      },
      "execution_count": 43,
      "outputs": [
        {
          "output_type": "display_data",
          "data": {
            "text/plain": [
              "<Figure size 432x288 with 1 Axes>"
            ],
            "image/png": "[encoded data removed]"
          },
          "metadata": {
            "needs_background": "light"
          }
        }
      ]
    },
    {
      "cell_type": "code",
      "source": [
        "regression = linear_model.LinearRegression()\n",
        "regression.fit(X_rm, y)\n",
        "     \n"
      ],
      "metadata": {
        "colab": {
          "base_uri": "https://localhost:8080/",
          "height": 75
        },
        "id": "W3y_zwbXYai8",
        "outputId": "fc70903f-0854-4142-829e-5efe37d1067b"
      },
      "execution_count": 44,
      "outputs": [
        {
          "output_type": "execute_result",
          "data": {
            "text/plain": [
              "LinearRegression()"
            ],
            "text/html": [
              "<style>#sk-container-id-1 {color: black;background-color: white;}#sk-container-id-1 pre{padding: 0;}#sk-container-id-1 div.sk-toggleable {background-color: white;}#sk-container-id-1 label.sk-toggleable__label {cursor: pointer;display: block;width: 100%;margin-bottom: 0;padding: 0.3em;box-sizing: border-box;text-align: center;}#sk-container-id-1 label.sk-toggleable__label-arrow:before {content: \"▸\";float: left;margin-right: 0.25em;color: #696969;}#sk-container-id-1 label.sk-toggleable__label-arrow:hover:before {color: black;}#sk-container-id-1 div.sk-estimator:hover label.sk-toggleable__label-arrow:before {color: black;}#sk-container-id-1 div.sk-toggleable__content {max-height: 0;max-width: 0;overflow: hidden;text-align: left;background-color: #f0f8ff;}#sk-container-id-1 div.sk-toggleable__content pre {margin: 0.2em;color: black;border-radius: 0.25em;background-color: #f0f8ff;}#sk-container-id-1 input.sk-toggleable__control:checked~div.sk-toggleable__content {max-height: 200px;max-width: 100%;overflow: auto;}#sk-container-id-1 input.sk-toggleable__control:checked~label.sk-toggleable__label-arrow:before {content: \"▾\";}#sk-container-id-1 div.sk-estimator input.sk-toggleable__control:checked~label.sk-toggleable__label {background-color: #d4ebff;}#sk-container-id-1 div.sk-label input.sk-toggleable__control:checked~label.sk-toggleable__label {background-color: #d4ebff;}#sk-container-id-1 input.sk-hidden--visually {border: 0;clip: rect(1px 1px 1px 1px);clip: rect(1px, 1px, 1px, 1px);height: 1px;margin: -1px;overflow: hidden;padding: 0;position: absolute;width: 1px;}#sk-container-id-1 div.sk-estimator {font-family: monospace;background-color: #f0f8ff;border: 1px dotted black;border-radius: 0.25em;box-sizing: border-box;margin-bottom: 0.5em;}#sk-container-id-1 div.sk-estimator:hover {background-color: #d4ebff;}#sk-container-id-1 div.sk-parallel-item::after {content: \"\";width: 100%;border-bottom: 1px solid gray;flex-grow: 1;}#sk-container-id-1 div.sk-label:hover label.sk-toggleable__label {background-color: #d4ebff;}#sk-container-id-1 div.sk-serial::before {content: \"\";position: absolute;border-left: 1px solid gray;box-sizing: border-box;top: 0;bottom: 0;left: 50%;z-index: 0;}#sk-container-id-1 div.sk-serial {display: flex;flex-direction: column;align-items: center;background-color: white;padding-right: 0.2em;padding-left: 0.2em;position: relative;}#sk-container-id-1 div.sk-item {position: relative;z-index: 1;}#sk-container-id-1 div.sk-parallel {display: flex;align-items: stretch;justify-content: center;background-color: white;position: relative;}#sk-container-id-1 div.sk-item::before, #sk-container-id-1 div.sk-parallel-item::before {content: \"\";position: absolute;border-left: 1px solid gray;box-sizing: border-box;top: 0;bottom: 0;left: 50%;z-index: -1;}#sk-container-id-1 div.sk-parallel-item {display: flex;flex-direction: column;z-index: 1;position: relative;background-color: white;}#sk-container-id-1 div.sk-parallel-item:first-child::after {align-self: flex-end;width: 50%;}#sk-container-id-1 div.sk-parallel-item:last-child::after {align-self: flex-start;width: 50%;}#sk-container-id-1 div.sk-parallel-item:only-child::after {width: 0;}#sk-container-id-1 div.sk-dashed-wrapped {border: 1px dashed gray;margin: 0 0.4em 0.5em 0.4em;box-sizing: border-box;padding-bottom: 0.4em;background-color: white;}#sk-container-id-1 div.sk-label label {font-family: monospace;font-weight: bold;display: inline-block;line-height: 1.2em;}#sk-container-id-1 div.sk-label-container {text-align: center;}#sk-container-id-1 div.sk-container {/* jupyter's `normalize.less` sets `[hidden] { display: none; }` but bootstrap.min.css set `[hidden] { display: none !important; }` so we also need the `!important` here to be able to override the default hidden behavior on the sphinx rendered scikit-learn.org. See: https://github.com/scikit-learn/scikit-learn/issues/21755 */display: inline-block !important;position: relative;}#sk-container-id-1 div.sk-text-repr-fallback {display: none;}</style><div id=\"sk-container-id-1\" class=\"sk-top-container\"><div class=\"sk-text-repr-fallback\"><pre>LinearRegression()</pre><b>In a Jupyter environment, please rerun this cell to show the HTML representation or trust the notebook. <br />On GitHub, the HTML representation is unable to render, please try loading this page with nbviewer.org.</b></div><div class=\"sk-container\" hidden><div class=\"sk-item\"><div class=\"sk-estimator sk-toggleable\"><input class=\"sk-toggleable__control sk-hidden--visually\" id=\"sk-estimator-id-1\" type=\"checkbox\" checked><label for=\"sk-estimator-id-1\" class=\"sk-toggleable__label sk-toggleable__label-arrow\">LinearRegression</label><div class=\"sk-toggleable__content\"><pre>LinearRegression()</pre></div></div></div></div></div>"
            ]
          },
          "metadata": {},
          "execution_count": 44
        }
      ]
    },
    {
      "cell_type": "code",
      "source": [
        "from sklearn.metrics import mean_absolute_error,r2_score,mean_squared_error\n",
        "y_pred = regression.predict(X_rm)"
      ],
      "metadata": {
        "id": "N0fTIvAIYttc"
      },
      "execution_count": 45,
      "outputs": []
    },
    {
      "cell_type": "code",
      "source": [
        "print(f'MAE = {mean_absolute_error(y, y_pred)}')\n",
        "print(f'MSE = {mean_squared_error(y, y_pred)}')\n",
        "print(f'RMSE = {np.sqrt(mean_squared_error(y, y_pred))}')\n",
        "print(f'R_2 = {r2_score(y, y_pred)}')"
      ],
      "metadata": {
        "colab": {
          "base_uri": "https://localhost:8080/"
        },
        "id": "fg0jKiHVY5Tw",
        "outputId": "86ba81cc-98cb-41cf-9710-feaf81876f5b"
      },
      "execution_count": 46,
      "outputs": [
        {
          "output_type": "stream",
          "name": "stdout",
          "text": [
            "MAE = 79679.51661028968\n",
            "MSE = 11495908520.486712\n",
            "RMSE = 107218.97462896533\n",
            "R_2 = 0.5786189401388357\n"
          ]
        }
      ]
    },
    {
      "cell_type": "code",
      "source": [
        "prediction_space = np.linspace(min(X_rm), max(X_rm)).reshape(-1,1)"
      ],
      "metadata": {
        "id": "Jf4GFEoyZCTQ"
      },
      "execution_count": 47,
      "outputs": []
    },
    {
      "cell_type": "code",
      "source": [
        "plt.scatter(X_rm, y, color='blue')\n",
        "plt.plot(X_rm, regression.predict(X_rm), color='red', linewidth=3)\n",
        "plt.show()\n",
        "     "
      ],
      "metadata": {
        "colab": {
          "base_uri": "https://localhost:8080/",
          "height": 276
        },
        "id": "t0aiF1u-ZRJI",
        "outputId": "2d9e3649-7582-4858-dd48-15939ede65f1"
      },
      "execution_count": 49,
      "outputs": [
        {
          "output_type": "display_data",
          "data": {
            "text/plain": [
              "<Figure size 432x288 with 1 Axes>"
            ],
            "image/png": "[encoded data removed]"
          },
          "metadata": {
            "needs_background": "light"
          }
        }
      ]
    },
    {
      "cell_type": "code",
      "source": [
        "plt.scatter(X_rm, y, color='blue')\n",
        "plt.plot(prediction_space, regression.predict(prediction_space), color='black', linewidth=3)\n",
        "plt.show()\n"
      ],
      "metadata": {
        "colab": {
          "base_uri": "https://localhost:8080/",
          "height": 276
        },
        "id": "RHTt6EF_Zok2",
        "outputId": "5a9a05df-79d8-426a-f438-a22c668c05e5"
      },
      "execution_count": 50,
      "outputs": [
        {
          "output_type": "display_data",
          "data": {
            "text/plain": [
              "<Figure size 432x288 with 1 Axes>"
            ],
            "image/png": "[encoded data removed]"
          },
          "metadata": {
            "needs_background": "light"
          }
        }
      ]
    }
  ]
}