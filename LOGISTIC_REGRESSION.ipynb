{
  "nbformat": 4,
  "nbformat_minor": 0,
  "metadata": {
    "colab": {
      "provenance": [],
      "authorship_tag": "ABX9TyN7k9B5f6NecguLa+qinP6O",
      "include_colab_link": true
    },
    "kernelspec": {
      "name": "python3",
      "display_name": "Python 3"
    },
    "language_info": {
      "name": "python"
    }
  },
  "cells": [
    {
      "cell_type": "markdown",
      "metadata": {
        "id": "view-in-github",
        "colab_type": "text"
      },
      "source": [
        "<a href=\"https://colab.research.google.com/github/patibandlaswaroopa/FML/blob/main/LOGISTIC_REGRESSION.ipynb\" target=\"_parent\"><img src=\"https://colab.research.google.com/assets/colab-badge.svg\" alt=\"Open In Colab\"/></a>"
      ]
    },
    {
      "cell_type": "code",
      "execution_count": null,
      "metadata": {
        "id": "xYAjYukKeS7u"
      },
      "outputs": [],
      "source": [
        "import matplotlib.pyplot as plt\n",
        "import numpy as np\n",
        "import pandas as pd\n",
        "import seaborn as sns\n",
        "from sklearn.linear_model import LogisticRegression\n",
        "from sklearn.model_selection import train_test_split\n",
        "from sklearn.metrics import classification_report, confusion_matrix"
      ]
    },
    {
      "cell_type": "code",
      "source": [
        "data = pd.read_csv(\"/content/IRIS/IRIS.csv\")\n",
        "data.head()"
      ],
      "metadata": {
        "colab": {
          "base_uri": "https://localhost:8080/",
          "height": 204
        },
        "id": "0wggv8GnfCrb",
        "outputId": "4a2dab6f-093f-4e8a-8612-2895e958efa5"
      },
      "execution_count": null,
      "outputs": [
        {
          "output_type": "execute_result",
          "data": {
            "text/plain": [
              "   sepal_length  sepal_width  petal_length  petal_width      species\n",
              "0           5.1          3.5           1.4          0.2  Iris-setosa\n",
              "1           4.9          3.0           1.4          0.2  Iris-setosa\n",
              "2           4.7          3.2           1.3          0.2  Iris-setosa\n",
              "3           4.6          3.1           1.5          0.2  Iris-setosa\n",
              "4           5.0          3.6           1.4          0.2  Iris-setosa"
            ],
            "text/html": [
              "\n",
              "  <div id=\"df-0c0f105d-a2f5-4c04-9120-a3c557ced2b8\">\n",
              "    <div class=\"colab-df-container\">\n",
              "      <div>\n",
              "<style scoped>\n",
              "    .dataframe tbody tr th:only-of-type {\n",
              "        vertical-align: middle;\n",
              "    }\n",
              "\n",
              "    .dataframe tbody tr th {\n",
              "        vertical-align: top;\n",
              "    }\n",
              "\n",
              "    .dataframe thead th {\n",
              "        text-align: right;\n",
              "    }\n",
              "</style>\n",
              "<table border=\"1\" class=\"dataframe\">\n",
              "  <thead>\n",
              "    <tr style=\"text-align: right;\">\n",
              "      <th></th>\n",
              "      <th>sepal_length</th>\n",
              "      <th>sepal_width</th>\n",
              "      <th>petal_length</th>\n",
              "      <th>petal_width</th>\n",
              "      <th>species</th>\n",
              "    </tr>\n",
              "  </thead>\n",
              "  <tbody>\n",
              "    <tr>\n",
              "      <th>0</th>\n",
              "      <td>5.1</td>\n",
              "      <td>3.5</td>\n",
              "      <td>1.4</td>\n",
              "      <td>0.2</td>\n",
              "      <td>Iris-setosa</td>\n",
              "    </tr>\n",
              "    <tr>\n",
              "      <th>1</th>\n",
              "      <td>4.9</td>\n",
              "      <td>3.0</td>\n",
              "      <td>1.4</td>\n",
              "      <td>0.2</td>\n",
              "      <td>Iris-setosa</td>\n",
              "    </tr>\n",
              "    <tr>\n",
              "      <th>2</th>\n",
              "      <td>4.7</td>\n",
              "      <td>3.2</td>\n",
              "      <td>1.3</td>\n",
              "      <td>0.2</td>\n",
              "      <td>Iris-setosa</td>\n",
              "    </tr>\n",
              "    <tr>\n",
              "      <th>3</th>\n",
              "      <td>4.6</td>\n",
              "      <td>3.1</td>\n",
              "      <td>1.5</td>\n",
              "      <td>0.2</td>\n",
              "      <td>Iris-setosa</td>\n",
              "    </tr>\n",
              "    <tr>\n",
              "      <th>4</th>\n",
              "      <td>5.0</td>\n",
              "      <td>3.6</td>\n",
              "      <td>1.4</td>\n",
              "      <td>0.2</td>\n",
              "      <td>Iris-setosa</td>\n",
              "    </tr>\n",
              "  </tbody>\n",
              "</table>\n",
              "</div>\n",
              "      <button class=\"colab-df-convert\" onclick=\"convertToInteractive('df-0c0f105d-a2f5-4c04-9120-a3c557ced2b8')\"\n",
              "              title=\"Convert this dataframe to an interactive table.\"\n",
              "              style=\"display:none;\">\n",
              "        \n",
              "  <svg xmlns=\"http://www.w3.org/2000/svg\" height=\"24px\"viewBox=\"0 0 24 24\"\n",
              "       width=\"24px\">\n",
              "    <path d=\"M0 0h24v24H0V0z\" fill=\"none\"/>\n",
              "    <path d=\"M18.56 5.44l.94 2.06.94-2.06 2.06-.94-2.06-.94-.94-2.06-.94 2.06-2.06.94zm-11 1L8.5 8.5l.94-2.06 2.06-.94-2.06-.94L8.5 2.5l-.94 2.06-2.06.94zm10 10l.94 2.06.94-2.06 2.06-.94-2.06-.94-.94-2.06-.94 2.06-2.06.94z\"/><path d=\"M17.41 7.96l-1.37-1.37c-.4-.4-.92-.59-1.43-.59-.52 0-1.04.2-1.43.59L10.3 9.45l-7.72 7.72c-.78.78-.78 2.05 0 2.83L4 21.41c.39.39.9.59 1.41.59.51 0 1.02-.2 1.41-.59l7.78-7.78 2.81-2.81c.8-.78.8-2.07 0-2.86zM5.41 20L4 18.59l7.72-7.72 1.47 1.35L5.41 20z\"/>\n",
              "  </svg>\n",
              "      </button>\n",
              "      \n",
              "  <style>\n",
              "    .colab-df-container {\n",
              "      display:flex;\n",
              "      flex-wrap:wrap;\n",
              "      gap: 12px;\n",
              "    }\n",
              "\n",
              "    .colab-df-convert {\n",
              "      background-color: #E8F0FE;\n",
              "      border: none;\n",
              "      border-radius: 50%;\n",
              "      cursor: pointer;\n",
              "      display: none;\n",
              "      fill: #1967D2;\n",
              "      height: 32px;\n",
              "      padding: 0 0 0 0;\n",
              "      width: 32px;\n",
              "    }\n",
              "\n",
              "    .colab-df-convert:hover {\n",
              "      background-color: #E2EBFA;\n",
              "      box-shadow: 0px 1px 2px rgba(60, 64, 67, 0.3), 0px 1px 3px 1px rgba(60, 64, 67, 0.15);\n",
              "      fill: #174EA6;\n",
              "    }\n",
              "\n",
              "    [theme=dark] .colab-df-convert {\n",
              "      background-color: #3B4455;\n",
              "      fill: #D2E3FC;\n",
              "    }\n",
              "\n",
              "    [theme=dark] .colab-df-convert:hover {\n",
              "      background-color: #434B5C;\n",
              "      box-shadow: 0px 1px 3px 1px rgba(0, 0, 0, 0.15);\n",
              "      filter: drop-shadow(0px 1px 2px rgba(0, 0, 0, 0.3));\n",
              "      fill: #FFFFFF;\n",
              "    }\n",
              "  </style>\n",
              "\n",
              "      <script>\n",
              "        const buttonEl =\n",
              "          document.querySelector('#df-0c0f105d-a2f5-4c04-9120-a3c557ced2b8 button.colab-df-convert');\n",
              "        buttonEl.style.display =\n",
              "          google.colab.kernel.accessAllowed ? 'block' : 'none';\n",
              "\n",
              "        async function convertToInteractive(key) {\n",
              "          const element = document.querySelector('#df-0c0f105d-a2f5-4c04-9120-a3c557ced2b8');\n",
              "          const dataTable =\n",
              "            await google.colab.kernel.invokeFunction('convertToInteractive',\n",
              "                                                     [key], {});\n",
              "          if (!dataTable) return;\n",
              "\n",
              "          const docLinkHtml = 'Like what you see? Visit the ' +\n",
              "            '<a target=\"_blank\" href=https://colab.research.google.com/notebooks/data_table.ipynb>data table notebook</a>'\n",
              "            + ' to learn more about interactive tables.';\n",
              "          element.innerHTML = '';\n",
              "          dataTable['output_type'] = 'display_data';\n",
              "          await google.colab.output.renderOutput(dataTable, element);\n",
              "          const docLink = document.createElement('div');\n",
              "          docLink.innerHTML = docLinkHtml;\n",
              "          element.appendChild(docLink);\n",
              "        }\n",
              "      </script>\n",
              "    </div>\n",
              "  </div>\n",
              "  "
            ]
          },
          "metadata": {},
          "execution_count": 2
        }
      ]
    },
    {
      "cell_type": "code",
      "source": [
        "data.info()"
      ],
      "metadata": {
        "colab": {
          "base_uri": "https://localhost:8080/"
        },
        "id": "m_lswMPTfK6q",
        "outputId": "37c11781-d793-4fe8-dd89-bf935321ba2e"
      },
      "execution_count": null,
      "outputs": [
        {
          "output_type": "stream",
          "name": "stdout",
          "text": [
            "<class 'pandas.core.frame.DataFrame'>\n",
            "RangeIndex: 150 entries, 0 to 149\n",
            "Data columns (total 5 columns):\n",
            " #   Column        Non-Null Count  Dtype  \n",
            "---  ------        --------------  -----  \n",
            " 0   sepal_length  150 non-null    float64\n",
            " 1   sepal_width   150 non-null    float64\n",
            " 2   petal_length  150 non-null    float64\n",
            " 3   petal_width   150 non-null    float64\n",
            " 4   species       150 non-null    object \n",
            "dtypes: float64(4), object(1)\n",
            "memory usage: 6.0+ KB\n"
          ]
        }
      ]
    },
    {
      "cell_type": "code",
      "source": [
        "data.head(5)"
      ],
      "metadata": {
        "colab": {
          "base_uri": "https://localhost:8080/",
          "height": 204
        },
        "id": "7aTncY0vfMmh",
        "outputId": "418b02aa-1263-40b9-a1d2-1abfcb5d7294"
      },
      "execution_count": null,
      "outputs": [
        {
          "output_type": "execute_result",
          "data": {
            "text/plain": [
              "   sepal_length  sepal_width  petal_length  petal_width      species\n",
              "0           5.1          3.5           1.4          0.2  Iris-setosa\n",
              "1           4.9          3.0           1.4          0.2  Iris-setosa\n",
              "2           4.7          3.2           1.3          0.2  Iris-setosa\n",
              "3           4.6          3.1           1.5          0.2  Iris-setosa\n",
              "4           5.0          3.6           1.4          0.2  Iris-setosa"
            ],
            "text/html": [
              "\n",
              "  <div id=\"df-2192282e-20e6-43d6-afce-a52f3d2cb91e\">\n",
              "    <div class=\"colab-df-container\">\n",
              "      <div>\n",
              "<style scoped>\n",
              "    .dataframe tbody tr th:only-of-type {\n",
              "        vertical-align: middle;\n",
              "    }\n",
              "\n",
              "    .dataframe tbody tr th {\n",
              "        vertical-align: top;\n",
              "    }\n",
              "\n",
              "    .dataframe thead th {\n",
              "        text-align: right;\n",
              "    }\n",
              "</style>\n",
              "<table border=\"1\" class=\"dataframe\">\n",
              "  <thead>\n",
              "    <tr style=\"text-align: right;\">\n",
              "      <th></th>\n",
              "      <th>sepal_length</th>\n",
              "      <th>sepal_width</th>\n",
              "      <th>petal_length</th>\n",
              "      <th>petal_width</th>\n",
              "      <th>species</th>\n",
              "    </tr>\n",
              "  </thead>\n",
              "  <tbody>\n",
              "    <tr>\n",
              "      <th>0</th>\n",
              "      <td>5.1</td>\n",
              "      <td>3.5</td>\n",
              "      <td>1.4</td>\n",
              "      <td>0.2</td>\n",
              "      <td>Iris-setosa</td>\n",
              "    </tr>\n",
              "    <tr>\n",
              "      <th>1</th>\n",
              "      <td>4.9</td>\n",
              "      <td>3.0</td>\n",
              "      <td>1.4</td>\n",
              "      <td>0.2</td>\n",
              "      <td>Iris-setosa</td>\n",
              "    </tr>\n",
              "    <tr>\n",
              "      <th>2</th>\n",
              "      <td>4.7</td>\n",
              "      <td>3.2</td>\n",
              "      <td>1.3</td>\n",
              "      <td>0.2</td>\n",
              "      <td>Iris-setosa</td>\n",
              "    </tr>\n",
              "    <tr>\n",
              "      <th>3</th>\n",
              "      <td>4.6</td>\n",
              "      <td>3.1</td>\n",
              "      <td>1.5</td>\n",
              "      <td>0.2</td>\n",
              "      <td>Iris-setosa</td>\n",
              "    </tr>\n",
              "    <tr>\n",
              "      <th>4</th>\n",
              "      <td>5.0</td>\n",
              "      <td>3.6</td>\n",
              "      <td>1.4</td>\n",
              "      <td>0.2</td>\n",
              "      <td>Iris-setosa</td>\n",
              "    </tr>\n",
              "  </tbody>\n",
              "</table>\n",
              "</div>\n",
              "      <button class=\"colab-df-convert\" onclick=\"convertToInteractive('df-2192282e-20e6-43d6-afce-a52f3d2cb91e')\"\n",
              "              title=\"Convert this dataframe to an interactive table.\"\n",
              "              style=\"display:none;\">\n",
              "        \n",
              "  <svg xmlns=\"http://www.w3.org/2000/svg\" height=\"24px\"viewBox=\"0 0 24 24\"\n",
              "       width=\"24px\">\n",
              "    <path d=\"M0 0h24v24H0V0z\" fill=\"none\"/>\n",
              "    <path d=\"M18.56 5.44l.94 2.06.94-2.06 2.06-.94-2.06-.94-.94-2.06-.94 2.06-2.06.94zm-11 1L8.5 8.5l.94-2.06 2.06-.94-2.06-.94L8.5 2.5l-.94 2.06-2.06.94zm10 10l.94 2.06.94-2.06 2.06-.94-2.06-.94-.94-2.06-.94 2.06-2.06.94z\"/><path d=\"M17.41 7.96l-1.37-1.37c-.4-.4-.92-.59-1.43-.59-.52 0-1.04.2-1.43.59L10.3 9.45l-7.72 7.72c-.78.78-.78 2.05 0 2.83L4 21.41c.39.39.9.59 1.41.59.51 0 1.02-.2 1.41-.59l7.78-7.78 2.81-2.81c.8-.78.8-2.07 0-2.86zM5.41 20L4 18.59l7.72-7.72 1.47 1.35L5.41 20z\"/>\n",
              "  </svg>\n",
              "      </button>\n",
              "      \n",
              "  <style>\n",
              "    .colab-df-container {\n",
              "      display:flex;\n",
              "      flex-wrap:wrap;\n",
              "      gap: 12px;\n",
              "    }\n",
              "\n",
              "    .colab-df-convert {\n",
              "      background-color: #E8F0FE;\n",
              "      border: none;\n",
              "      border-radius: 50%;\n",
              "      cursor: pointer;\n",
              "      display: none;\n",
              "      fill: #1967D2;\n",
              "      height: 32px;\n",
              "      padding: 0 0 0 0;\n",
              "      width: 32px;\n",
              "    }\n",
              "\n",
              "    .colab-df-convert:hover {\n",
              "      background-color: #E2EBFA;\n",
              "      box-shadow: 0px 1px 2px rgba(60, 64, 67, 0.3), 0px 1px 3px 1px rgba(60, 64, 67, 0.15);\n",
              "      fill: #174EA6;\n",
              "    }\n",
              "\n",
              "    [theme=dark] .colab-df-convert {\n",
              "      background-color: #3B4455;\n",
              "      fill: #D2E3FC;\n",
              "    }\n",
              "\n",
              "    [theme=dark] .colab-df-convert:hover {\n",
              "      background-color: #434B5C;\n",
              "      box-shadow: 0px 1px 3px 1px rgba(0, 0, 0, 0.15);\n",
              "      filter: drop-shadow(0px 1px 2px rgba(0, 0, 0, 0.3));\n",
              "      fill: #FFFFFF;\n",
              "    }\n",
              "  </style>\n",
              "\n",
              "      <script>\n",
              "        const buttonEl =\n",
              "          document.querySelector('#df-2192282e-20e6-43d6-afce-a52f3d2cb91e button.colab-df-convert');\n",
              "        buttonEl.style.display =\n",
              "          google.colab.kernel.accessAllowed ? 'block' : 'none';\n",
              "\n",
              "        async function convertToInteractive(key) {\n",
              "          const element = document.querySelector('#df-2192282e-20e6-43d6-afce-a52f3d2cb91e');\n",
              "          const dataTable =\n",
              "            await google.colab.kernel.invokeFunction('convertToInteractive',\n",
              "                                                     [key], {});\n",
              "          if (!dataTable) return;\n",
              "\n",
              "          const docLinkHtml = 'Like what you see? Visit the ' +\n",
              "            '<a target=\"_blank\" href=https://colab.research.google.com/notebooks/data_table.ipynb>data table notebook</a>'\n",
              "            + ' to learn more about interactive tables.';\n",
              "          element.innerHTML = '';\n",
              "          dataTable['output_type'] = 'display_data';\n",
              "          await google.colab.output.renderOutput(dataTable, element);\n",
              "          const docLink = document.createElement('div');\n",
              "          docLink.innerHTML = docLinkHtml;\n",
              "          element.appendChild(docLink);\n",
              "        }\n",
              "      </script>\n",
              "    </div>\n",
              "  </div>\n",
              "  "
            ]
          },
          "metadata": {},
          "execution_count": 5
        }
      ]
    },
    {
      "cell_type": "code",
      "source": [
        "x=data.drop('species', axis=1).values\n",
        "y=data['species'].values"
      ],
      "metadata": {
        "id": "qqH19OdmfTMJ"
      },
      "execution_count": null,
      "outputs": []
    },
    {
      "cell_type": "code",
      "source": [
        "X_train, X_test, y_train, y_test = train_test_split(x, y, test_size=0.25, random_state=42)"
      ],
      "metadata": {
        "id": "HaR_NBrUvDJY"
      },
      "execution_count": null,
      "outputs": []
    },
    {
      "cell_type": "code",
      "source": [
        "X_train.shape, X_test.shape\n"
      ],
      "metadata": {
        "colab": {
          "base_uri": "https://localhost:8080/"
        },
        "id": "UiAdpLtkvtR3",
        "outputId": "115518af-05a9-4c06-c3e7-08e128ff3326"
      },
      "execution_count": null,
      "outputs": [
        {
          "output_type": "execute_result",
          "data": {
            "text/plain": [
              "((112, 4), (38, 4))"
            ]
          },
          "metadata": {},
          "execution_count": 33
        }
      ]
    },
    {
      "cell_type": "code",
      "source": [
        "y_train.shape"
      ],
      "metadata": {
        "colab": {
          "base_uri": "https://localhost:8080/"
        },
        "id": "myzRZTBixXyB",
        "outputId": "d9353247-fe90-4dcb-c970-b0761f18b680"
      },
      "execution_count": null,
      "outputs": [
        {
          "output_type": "execute_result",
          "data": {
            "text/plain": [
              "(112, 1)"
            ]
          },
          "metadata": {},
          "execution_count": 39
        }
      ]
    },
    {
      "cell_type": "code",
      "source": [
        "model = LogisticRegression(C=0.5)\n",
        "model.fit(X_train,y_train)"
      ],
      "metadata": {
        "colab": {
          "base_uri": "https://localhost:8080/",
          "height": 128
        },
        "id": "qv-qX6Rci5KN",
        "outputId": "1a6c9dcb-1856-471b-ea37-0ac66c250159"
      },
      "execution_count": null,
      "outputs": [
        {
          "output_type": "stream",
          "name": "stderr",
          "text": [
            "/usr/local/lib/python3.9/dist-packages/sklearn/utils/validation.py:1143: DataConversionWarning: A column-vector y was passed when a 1d array was expected. Please change the shape of y to (n_samples, ), for example using ravel().\n",
            "  y = column_or_1d(y, warn=True)\n"
          ]
        },
        {
          "output_type": "execute_result",
          "data": {
            "text/plain": [
              "LogisticRegression(C=0.5)"
            ],
            "text/html": [
              "<style>#sk-container-id-4 {color: black;background-color: white;}#sk-container-id-4 pre{padding: 0;}#sk-container-id-4 div.sk-toggleable {background-color: white;}#sk-container-id-4 label.sk-toggleable__label {cursor: pointer;display: block;width: 100%;margin-bottom: 0;padding: 0.3em;box-sizing: border-box;text-align: center;}#sk-container-id-4 label.sk-toggleable__label-arrow:before {content: \"▸\";float: left;margin-right: 0.25em;color: #696969;}#sk-container-id-4 label.sk-toggleable__label-arrow:hover:before {color: black;}#sk-container-id-4 div.sk-estimator:hover label.sk-toggleable__label-arrow:before {color: black;}#sk-container-id-4 div.sk-toggleable__content {max-height: 0;max-width: 0;overflow: hidden;text-align: left;background-color: #f0f8ff;}#sk-container-id-4 div.sk-toggleable__content pre {margin: 0.2em;color: black;border-radius: 0.25em;background-color: #f0f8ff;}#sk-container-id-4 input.sk-toggleable__control:checked~div.sk-toggleable__content {max-height: 200px;max-width: 100%;overflow: auto;}#sk-container-id-4 input.sk-toggleable__control:checked~label.sk-toggleable__label-arrow:before {content: \"▾\";}#sk-container-id-4 div.sk-estimator input.sk-toggleable__control:checked~label.sk-toggleable__label {background-color: #d4ebff;}#sk-container-id-4 div.sk-label input.sk-toggleable__control:checked~label.sk-toggleable__label {background-color: #d4ebff;}#sk-container-id-4 input.sk-hidden--visually {border: 0;clip: rect(1px 1px 1px 1px);clip: rect(1px, 1px, 1px, 1px);height: 1px;margin: -1px;overflow: hidden;padding: 0;position: absolute;width: 1px;}#sk-container-id-4 div.sk-estimator {font-family: monospace;background-color: #f0f8ff;border: 1px dotted black;border-radius: 0.25em;box-sizing: border-box;margin-bottom: 0.5em;}#sk-container-id-4 div.sk-estimator:hover {background-color: #d4ebff;}#sk-container-id-4 div.sk-parallel-item::after {content: \"\";width: 100%;border-bottom: 1px solid gray;flex-grow: 1;}#sk-container-id-4 div.sk-label:hover label.sk-toggleable__label {background-color: #d4ebff;}#sk-container-id-4 div.sk-serial::before {content: \"\";position: absolute;border-left: 1px solid gray;box-sizing: border-box;top: 0;bottom: 0;left: 50%;z-index: 0;}#sk-container-id-4 div.sk-serial {display: flex;flex-direction: column;align-items: center;background-color: white;padding-right: 0.2em;padding-left: 0.2em;position: relative;}#sk-container-id-4 div.sk-item {position: relative;z-index: 1;}#sk-container-id-4 div.sk-parallel {display: flex;align-items: stretch;justify-content: center;background-color: white;position: relative;}#sk-container-id-4 div.sk-item::before, #sk-container-id-4 div.sk-parallel-item::before {content: \"\";position: absolute;border-left: 1px solid gray;box-sizing: border-box;top: 0;bottom: 0;left: 50%;z-index: -1;}#sk-container-id-4 div.sk-parallel-item {display: flex;flex-direction: column;z-index: 1;position: relative;background-color: white;}#sk-container-id-4 div.sk-parallel-item:first-child::after {align-self: flex-end;width: 50%;}#sk-container-id-4 div.sk-parallel-item:last-child::after {align-self: flex-start;width: 50%;}#sk-container-id-4 div.sk-parallel-item:only-child::after {width: 0;}#sk-container-id-4 div.sk-dashed-wrapped {border: 1px dashed gray;margin: 0 0.4em 0.5em 0.4em;box-sizing: border-box;padding-bottom: 0.4em;background-color: white;}#sk-container-id-4 div.sk-label label {font-family: monospace;font-weight: bold;display: inline-block;line-height: 1.2em;}#sk-container-id-4 div.sk-label-container {text-align: center;}#sk-container-id-4 div.sk-container {/* jupyter's `normalize.less` sets `[hidden] { display: none; }` but bootstrap.min.css set `[hidden] { display: none !important; }` so we also need the `!important` here to be able to override the default hidden behavior on the sphinx rendered scikit-learn.org. See: https://github.com/scikit-learn/scikit-learn/issues/21755 */display: inline-block !important;position: relative;}#sk-container-id-4 div.sk-text-repr-fallback {display: none;}</style><div id=\"sk-container-id-4\" class=\"sk-top-container\"><div class=\"sk-text-repr-fallback\"><pre>LogisticRegression(C=0.5)</pre><b>In a Jupyter environment, please rerun this cell to show the HTML representation or trust the notebook. <br />On GitHub, the HTML representation is unable to render, please try loading this page with nbviewer.org.</b></div><div class=\"sk-container\" hidden><div class=\"sk-item\"><div class=\"sk-estimator sk-toggleable\"><input class=\"sk-toggleable__control sk-hidden--visually\" id=\"sk-estimator-id-4\" type=\"checkbox\" checked><label for=\"sk-estimator-id-4\" class=\"sk-toggleable__label sk-toggleable__label-arrow\">LogisticRegression</label><div class=\"sk-toggleable__content\"><pre>LogisticRegression(C=0.5)</pre></div></div></div></div></div>"
            ]
          },
          "metadata": {},
          "execution_count": 40
        }
      ]
    },
    {
      "cell_type": "code",
      "source": [
        "model.classes_"
      ],
      "metadata": {
        "colab": {
          "base_uri": "https://localhost:8080/"
        },
        "id": "tPL_6SofjHqm",
        "outputId": "69df71c3-aa24-4122-d45b-532c1e5cac27"
      },
      "execution_count": null,
      "outputs": [
        {
          "output_type": "execute_result",
          "data": {
            "text/plain": [
              "array(['Iris-setosa', 'Iris-versicolor', 'Iris-virginica'], dtype=object)"
            ]
          },
          "metadata": {},
          "execution_count": 41
        }
      ]
    },
    {
      "cell_type": "code",
      "source": [
        "model.intercept_"
      ],
      "metadata": {
        "colab": {
          "base_uri": "https://localhost:8080/"
        },
        "id": "erFGVD54jSlv",
        "outputId": "c6d6199c-e21d-4e33-842c-6b3656aee5f5"
      },
      "execution_count": null,
      "outputs": [
        {
          "output_type": "execute_result",
          "data": {
            "text/plain": [
              "array([ 7.6465658 ,  1.93385895, -9.58042475])"
            ]
          },
          "metadata": {},
          "execution_count": 42
        }
      ]
    },
    {
      "cell_type": "code",
      "source": [
        "model.coef_\n",
        "     "
      ],
      "metadata": {
        "colab": {
          "base_uri": "https://localhost:8080/"
        },
        "id": "SY9YZHG9jb5p",
        "outputId": "45f807ad-ea7b-44a7-a7d8-f682689aa655"
      },
      "execution_count": null,
      "outputs": [
        {
          "output_type": "execute_result",
          "data": {
            "text/plain": [
              "array([[-0.37005606,  0.67931953, -1.8936949 , -0.78684322],\n",
              "       [ 0.33706108, -0.35574121, -0.10801952, -0.51478849],\n",
              "       [ 0.03299499, -0.32357832,  2.00171442,  1.30163171]])"
            ]
          },
          "metadata": {},
          "execution_count": 43
        }
      ]
    },
    {
      "cell_type": "code",
      "source": [
        "model.predict_proba(x)"
      ],
      "metadata": {
        "colab": {
          "base_uri": "https://localhost:8080/"
        },
        "id": "F1mPDurjjfli",
        "outputId": "a144829e-ece2-4958-be06-0d179b9e9a50"
      },
      "execution_count": null,
      "outputs": [
        {
          "output_type": "execute_result",
          "data": {
            "text/plain": [
              "array([[9.59871022e-01, 4.01263551e-02, 2.62281859e-06],\n",
              "       [9.42599598e-01, 5.73964791e-02, 3.92329130e-06],\n",
              "       [9.65296761e-01, 3.47011851e-02, 2.05442129e-06],\n",
              "       [9.49580368e-01, 5.04149553e-02, 4.67694599e-06],\n",
              "       [9.66069313e-01, 3.39283934e-02, 2.29352815e-06],\n",
              "       [9.41935236e-01, 5.80552622e-02, 9.50160839e-06],\n",
              "       [9.67626990e-01, 3.23700651e-02, 2.94441172e-06],\n",
              "       [9.50889301e-01, 4.91066263e-02, 4.07297577e-06],\n",
              "       [9.54723421e-01, 4.52729881e-02, 3.59116003e-06],\n",
              "       [9.39954678e-01, 6.00410818e-02, 4.23983623e-06],\n",
              "       [9.52165917e-01, 4.78305360e-02, 3.54687379e-06],\n",
              "       [9.49124124e-01, 5.08703390e-02, 5.53696508e-06],\n",
              "       [9.47673994e-01, 5.23229318e-02, 3.07451538e-06],\n",
              "       [9.77812756e-01, 2.21864380e-02, 8.05982386e-07],\n",
              "       [9.72196981e-01, 2.78020406e-02, 9.78841058e-07],\n",
              "       [9.69200466e-01, 3.07964677e-02, 3.06602080e-06],\n",
              "       [9.70708844e-01, 2.92890948e-02, 2.06140423e-06],\n",
              "       [9.58809380e-01, 4.11873919e-02, 3.22841206e-06],\n",
              "       [9.24000177e-01, 7.59903866e-02, 9.43658767e-06],\n",
              "       [9.63715765e-01, 3.62806891e-02, 3.54580808e-06],\n",
              "       [9.10789231e-01, 8.92007788e-02, 9.99005422e-06],\n",
              "       [9.58856774e-01, 4.11384201e-02, 4.80592089e-06],\n",
              "       [9.87208085e-01, 1.27914948e-02, 4.19938260e-07],\n",
              "       [9.12951992e-01, 8.70296536e-02, 1.83545730e-05],\n",
              "       [9.16088631e-01, 8.38941738e-02, 1.71954164e-05],\n",
              "       [9.14566409e-01, 8.54249529e-02, 8.63761396e-06],\n",
              "       [9.38789809e-01, 6.12011769e-02, 9.01422380e-06],\n",
              "       [9.49088249e-01, 5.09077651e-02, 3.98604072e-06],\n",
              "       [9.52596014e-01, 4.74009904e-02, 2.99587520e-06],\n",
              "       [9.42124738e-01, 5.78688103e-02, 6.45154152e-06],\n",
              "       [9.31860976e-01, 6.81316796e-02, 7.34456027e-06],\n",
              "       [9.32518799e-01, 6.74740744e-02, 7.12622004e-06],\n",
              "       [9.72712549e-01, 2.72856350e-02, 1.81629562e-06],\n",
              "       [9.73824367e-01, 2.61740833e-02, 1.54940890e-06],\n",
              "       [9.39954678e-01, 6.00410818e-02, 4.23983623e-06],\n",
              "       [9.64155083e-01, 3.58433488e-02, 1.56860260e-06],\n",
              "       [9.55656796e-01, 4.43411259e-02, 2.07825573e-06],\n",
              "       [9.39954678e-01, 6.00410818e-02, 4.23983623e-06],\n",
              "       [9.65467792e-01, 3.45299827e-02, 2.22517512e-06],\n",
              "       [9.47479986e-01, 5.25157884e-02, 4.22528682e-06],\n",
              "       [9.67603560e-01, 3.23943204e-02, 2.11969992e-06],\n",
              "       [9.24718276e-01, 7.52762062e-02, 5.51732476e-06],\n",
              "       [9.71742502e-01, 2.82556651e-02, 1.83259713e-06],\n",
              "       [9.41547363e-01, 5.84402191e-02, 1.24179375e-05],\n",
              "       [9.26747085e-01, 7.32329560e-02, 1.99586293e-05],\n",
              "       [9.44907860e-01, 5.50874847e-02, 4.65489401e-06],\n",
              "       [9.58034988e-01, 4.19607888e-02, 4.22300694e-06],\n",
              "       [9.61496084e-01, 3.85010139e-02, 2.90166566e-06],\n",
              "       [9.55285410e-01, 4.47111719e-02, 3.41792055e-06],\n",
              "       [9.54278992e-01, 4.57179472e-02, 3.06081480e-06],\n",
              "       [6.75588944e-03, 7.41655068e-01, 2.51589043e-01],\n",
              "       [1.44569389e-02, 7.46536301e-01, 2.39006760e-01],\n",
              "       [3.65232066e-03, 6.08481982e-01, 3.87865697e-01],\n",
              "       [3.27171012e-02, 8.80128806e-01, 8.71540928e-02],\n",
              "       [7.18428936e-03, 7.20157475e-01, 2.72658236e-01],\n",
              "       [1.71336806e-02, 7.72743563e-01, 2.10122756e-01],\n",
              "       [9.68147220e-03, 6.16838033e-01, 3.73480495e-01],\n",
              "       [1.90237153e-01, 7.97176636e-01, 1.25862113e-02],\n",
              "       [8.59047285e-03, 7.89201575e-01, 2.02207952e-01],\n",
              "       [6.81131673e-02, 8.42033161e-01, 8.98536712e-02],\n",
              "       [9.13326449e-02, 8.88188666e-01, 2.04786892e-02],\n",
              "       [3.10216725e-02, 8.09734798e-01, 1.59243530e-01],\n",
              "       [2.37621208e-02, 9.30490001e-01, 4.57478777e-02],\n",
              "       [8.67652311e-03, 6.87597277e-01, 3.03726199e-01],\n",
              "       [1.12163887e-01, 8.51957422e-01, 3.58786914e-02],\n",
              "       [1.42911932e-02, 8.23679454e-01, 1.62029353e-01],\n",
              "       [1.93385603e-02, 6.97630246e-01, 2.83031194e-01],\n",
              "       [3.73003616e-02, 9.03463164e-01, 5.92364739e-02],\n",
              "       [5.92472022e-03, 7.47728935e-01, 2.46346345e-01],\n",
              "       [4.85264435e-02, 9.02348053e-01, 4.91255032e-02],\n",
              "       [6.68494067e-03, 4.49388398e-01, 5.43926661e-01],\n",
              "       [3.62837120e-02, 8.89161784e-01, 7.45545043e-02],\n",
              "       [2.80873723e-03, 5.69697603e-01, 4.27493659e-01],\n",
              "       [9.11401985e-03, 7.58612744e-01, 2.32273236e-01],\n",
              "       [1.83736873e-02, 8.57620375e-01, 1.24005938e-01],\n",
              "       [1.37749555e-02, 8.20393775e-01, 1.65831270e-01],\n",
              "       [4.01410322e-03, 6.91907312e-01, 3.04078584e-01],\n",
              "       [2.24075268e-03, 4.53718744e-01, 5.44040503e-01],\n",
              "       [1.36803582e-02, 7.26255740e-01, 2.60063901e-01],\n",
              "       [1.02712489e-01, 8.80557448e-01, 1.67300626e-02],\n",
              "       [5.61773802e-02, 9.02918639e-01, 4.09039803e-02],\n",
              "       [6.90433251e-02, 9.03322341e-01, 2.76343336e-02],\n",
              "       [4.99969889e-02, 8.94684347e-01, 5.53186638e-02],\n",
              "       [2.02728293e-03, 3.97128696e-01, 6.00844021e-01],\n",
              "       [2.18249006e-02, 6.83492923e-01, 2.94682176e-01],\n",
              "       [2.09644587e-02, 6.81601228e-01, 2.97434313e-01],\n",
              "       [6.79592185e-03, 6.87711034e-01, 3.05493044e-01],\n",
              "       [8.67915302e-03, 8.39711317e-01, 1.51609530e-01],\n",
              "       [5.06222700e-02, 8.46659567e-01, 1.02718163e-01],\n",
              "       [3.99191159e-02, 8.73068056e-01, 8.70128278e-02],\n",
              "       [2.09195538e-02, 8.20079364e-01, 1.59001082e-01],\n",
              "       [1.21626045e-02, 7.26962472e-01, 2.60874924e-01],\n",
              "       [3.76903381e-02, 8.94250180e-01, 6.80594824e-02],\n",
              "       [1.64905309e-01, 8.22537460e-01, 1.25572315e-02],\n",
              "       [3.09379738e-02, 8.43852067e-01, 1.25209959e-01],\n",
              "       [4.09585919e-02, 8.55377138e-01, 1.03664270e-01],\n",
              "       [3.54007969e-02, 8.42544722e-01, 1.22054481e-01],\n",
              "       [2.09435778e-02, 8.48653157e-01, 1.30403265e-01],\n",
              "       [2.74547392e-01, 7.18631654e-01, 6.82095454e-03],\n",
              "       [3.89698304e-02, 8.60418344e-01, 1.00611826e-01],\n",
              "       [2.44993568e-05, 2.03180841e-02, 9.79657417e-01],\n",
              "       [1.43444400e-03, 2.64683365e-01, 7.33882191e-01],\n",
              "       [4.27255977e-05, 6.38467190e-02, 9.36110555e-01],\n",
              "       [2.92142093e-04, 1.48327195e-01, 8.51380663e-01],\n",
              "       [6.57858538e-05, 5.52826687e-02, 9.44651545e-01],\n",
              "       [2.39776018e-06, 1.78098799e-02, 9.82187722e-01],\n",
              "       [1.47855366e-02, 5.76051430e-01, 4.09163034e-01],\n",
              "       [1.42358644e-05, 5.11639228e-02, 9.48821841e-01],\n",
              "       [7.93416780e-05, 1.15578517e-01, 8.84342141e-01],\n",
              "       [1.55822452e-05, 2.14012932e-02, 9.78583125e-01],\n",
              "       [1.44369084e-03, 2.67633089e-01, 7.30923220e-01],\n",
              "       [5.48187736e-04, 2.20969535e-01, 7.78482277e-01],\n",
              "       [2.13679486e-04, 1.26438857e-01, 8.73347464e-01],\n",
              "       [1.46191313e-03, 2.65719506e-01, 7.32818581e-01],\n",
              "       [6.63780011e-04, 1.26529280e-01, 8.72806940e-01],\n",
              "       [4.44054983e-04, 1.18943304e-01, 8.80612641e-01],\n",
              "       [4.20579874e-04, 1.85520342e-01, 8.14059078e-01],\n",
              "       [2.84027970e-06, 1.21527681e-02, 9.87844392e-01],\n",
              "       [3.19102684e-07, 6.94363591e-03, 9.93056045e-01],\n",
              "       [1.86028943e-03, 4.97727832e-01, 5.00411879e-01],\n",
              "       [8.12785503e-05, 6.33331835e-02, 9.36585538e-01],\n",
              "       [2.88816690e-03, 2.99921225e-01, 6.97190608e-01],\n",
              "       [1.57274665e-06, 1.79417031e-02, 9.82056724e-01],\n",
              "       [2.42156248e-03, 4.33281640e-01, 5.64296798e-01],\n",
              "       [1.44684937e-04, 8.35750768e-02, 9.16280238e-01],\n",
              "       [6.18645643e-05, 8.88798279e-02, 9.11058308e-01],\n",
              "       [3.78959184e-03, 4.76490585e-01, 5.19719823e-01],\n",
              "       [3.64974301e-03, 4.15586210e-01, 5.80764047e-01],\n",
              "       [1.44239961e-04, 9.45844251e-02, 9.05271335e-01],\n",
              "       [1.51281072e-04, 1.77140517e-01, 8.22708202e-01],\n",
              "       [2.15290295e-05, 6.62185496e-02, 9.33759921e-01],\n",
              "       [1.25163612e-05, 3.41923177e-02, 9.65795166e-01],\n",
              "       [1.18925072e-04, 8.01350737e-02, 9.19746001e-01],\n",
              "       [2.17846343e-03, 4.62944573e-01, 5.34876963e-01],\n",
              "       [4.72671847e-04, 2.54895737e-01, 7.44631591e-01],\n",
              "       [1.04390630e-05, 3.59834139e-02, 9.64006147e-01],\n",
              "       [1.52978616e-04, 5.44989221e-02, 9.45348099e-01],\n",
              "       [4.87026406e-04, 1.80481933e-01, 8.19031040e-01],\n",
              "       [5.17406033e-03, 4.59166006e-01, 5.35659934e-01],\n",
              "       [3.23904662e-04, 1.55146372e-01, 8.44529724e-01],\n",
              "       [9.56454791e-05, 6.16760866e-02, 9.38228268e-01],\n",
              "       [6.54670773e-04, 1.93787189e-01, 8.05558140e-01],\n",
              "       [1.43444400e-03, 2.64683365e-01, 7.33882191e-01],\n",
              "       [3.97441882e-05, 4.12402307e-02, 9.58720025e-01],\n",
              "       [6.55867939e-05, 4.22406521e-02, 9.57693761e-01],\n",
              "       [4.55711155e-04, 1.55265643e-01, 8.44278645e-01],\n",
              "       [1.26671350e-03, 3.42470622e-01, 6.56262664e-01],\n",
              "       [8.42428488e-04, 2.29643300e-01, 7.69514272e-01],\n",
              "       [4.10328196e-04, 9.27388826e-02, 9.06850789e-01],\n",
              "       [2.16343223e-03, 3.05650082e-01, 6.92186486e-01]])"
            ]
          },
          "metadata": {},
          "execution_count": 44
        }
      ]
    },
    {
      "cell_type": "code",
      "source": [
        "model.score(x,y)"
      ],
      "metadata": {
        "colab": {
          "base_uri": "https://localhost:8080/"
        },
        "id": "qLKg3_eRjhlo",
        "outputId": "8fae5494-f775-470a-f4bf-f64fbbd882a9"
      },
      "execution_count": null,
      "outputs": [
        {
          "output_type": "execute_result",
          "data": {
            "text/plain": [
              "0.9733333333333334"
            ]
          },
          "metadata": {},
          "execution_count": 45
        }
      ]
    },
    {
      "cell_type": "code",
      "source": [
        "y_pred = model.predict(x)\n",
        "print(y_pred)\n",
        "     "
      ],
      "metadata": {
        "colab": {
          "base_uri": "https://localhost:8080/"
        },
        "id": "QCqv-DADjmUp",
        "outputId": "4453c8c9-0c32-4d93-8c55-3bc70cb60fda"
      },
      "execution_count": null,
      "outputs": [
        {
          "output_type": "stream",
          "name": "stdout",
          "text": [
            "['Iris-setosa' 'Iris-setosa' 'Iris-setosa' 'Iris-setosa' 'Iris-setosa'\n",
            " 'Iris-setosa' 'Iris-setosa' 'Iris-setosa' 'Iris-setosa' 'Iris-setosa'\n",
            " 'Iris-setosa' 'Iris-setosa' 'Iris-setosa' 'Iris-setosa' 'Iris-setosa'\n",
            " 'Iris-setosa' 'Iris-setosa' 'Iris-setosa' 'Iris-setosa' 'Iris-setosa'\n",
            " 'Iris-setosa' 'Iris-setosa' 'Iris-setosa' 'Iris-setosa' 'Iris-setosa'\n",
            " 'Iris-setosa' 'Iris-setosa' 'Iris-setosa' 'Iris-setosa' 'Iris-setosa'\n",
            " 'Iris-setosa' 'Iris-setosa' 'Iris-setosa' 'Iris-setosa' 'Iris-setosa'\n",
            " 'Iris-setosa' 'Iris-setosa' 'Iris-setosa' 'Iris-setosa' 'Iris-setosa'\n",
            " 'Iris-setosa' 'Iris-setosa' 'Iris-setosa' 'Iris-setosa' 'Iris-setosa'\n",
            " 'Iris-setosa' 'Iris-setosa' 'Iris-setosa' 'Iris-setosa' 'Iris-setosa'\n",
            " 'Iris-versicolor' 'Iris-versicolor' 'Iris-versicolor' 'Iris-versicolor'\n",
            " 'Iris-versicolor' 'Iris-versicolor' 'Iris-versicolor' 'Iris-versicolor'\n",
            " 'Iris-versicolor' 'Iris-versicolor' 'Iris-versicolor' 'Iris-versicolor'\n",
            " 'Iris-versicolor' 'Iris-versicolor' 'Iris-versicolor' 'Iris-versicolor'\n",
            " 'Iris-versicolor' 'Iris-versicolor' 'Iris-versicolor' 'Iris-versicolor'\n",
            " 'Iris-virginica' 'Iris-versicolor' 'Iris-versicolor' 'Iris-versicolor'\n",
            " 'Iris-versicolor' 'Iris-versicolor' 'Iris-versicolor' 'Iris-virginica'\n",
            " 'Iris-versicolor' 'Iris-versicolor' 'Iris-versicolor' 'Iris-versicolor'\n",
            " 'Iris-versicolor' 'Iris-virginica' 'Iris-versicolor' 'Iris-versicolor'\n",
            " 'Iris-versicolor' 'Iris-versicolor' 'Iris-versicolor' 'Iris-versicolor'\n",
            " 'Iris-versicolor' 'Iris-versicolor' 'Iris-versicolor' 'Iris-versicolor'\n",
            " 'Iris-versicolor' 'Iris-versicolor' 'Iris-versicolor' 'Iris-versicolor'\n",
            " 'Iris-versicolor' 'Iris-versicolor' 'Iris-virginica' 'Iris-virginica'\n",
            " 'Iris-virginica' 'Iris-virginica' 'Iris-virginica' 'Iris-virginica'\n",
            " 'Iris-versicolor' 'Iris-virginica' 'Iris-virginica' 'Iris-virginica'\n",
            " 'Iris-virginica' 'Iris-virginica' 'Iris-virginica' 'Iris-virginica'\n",
            " 'Iris-virginica' 'Iris-virginica' 'Iris-virginica' 'Iris-virginica'\n",
            " 'Iris-virginica' 'Iris-virginica' 'Iris-virginica' 'Iris-virginica'\n",
            " 'Iris-virginica' 'Iris-virginica' 'Iris-virginica' 'Iris-virginica'\n",
            " 'Iris-virginica' 'Iris-virginica' 'Iris-virginica' 'Iris-virginica'\n",
            " 'Iris-virginica' 'Iris-virginica' 'Iris-virginica' 'Iris-virginica'\n",
            " 'Iris-virginica' 'Iris-virginica' 'Iris-virginica' 'Iris-virginica'\n",
            " 'Iris-virginica' 'Iris-virginica' 'Iris-virginica' 'Iris-virginica'\n",
            " 'Iris-virginica' 'Iris-virginica' 'Iris-virginica' 'Iris-virginica'\n",
            " 'Iris-virginica' 'Iris-virginica' 'Iris-virginica' 'Iris-virginica']\n"
          ]
        }
      ]
    },
    {
      "cell_type": "code",
      "source": [
        "confusion_matrix(y, y_pred)"
      ],
      "metadata": {
        "colab": {
          "base_uri": "https://localhost:8080/"
        },
        "id": "VEzMSn5Kjx2a",
        "outputId": "2b0d051d-5048-40de-cb7e-b5cfa6d350fc"
      },
      "execution_count": null,
      "outputs": [
        {
          "output_type": "execute_result",
          "data": {
            "text/plain": [
              "array([[50,  0,  0],\n",
              "       [ 0, 47,  3],\n",
              "       [ 0,  1, 49]])"
            ]
          },
          "metadata": {},
          "execution_count": 47
        }
      ]
    },
    {
      "cell_type": "code",
      "source": [
        "from sklearn.svm import SVC\n",
        "from sklearn.metrics import accuracy_score, confusion_matrix, precision_recall_fscore_support\n",
        "\n",
        "clf = SVC(kernel = 'linear').fit(X_train,y_train)\n",
        "clf.predict(X_train)\n",
        "y_pred = clf.predict(X_test)\n",
        "\n",
        "# Creates a confusion matrix\n",
        "cm = confusion_matrix(y_test, y_pred) \n",
        "\n",
        "# Transform to df for easier plotting\n",
        "cm_df = pd.DataFrame(cm,\n",
        "                     index = ['setosa','versicolor','virginica'], \n",
        "                     columns = ['setosa','versicolor','virginica'])\n",
        "\n",
        "plt.figure(figsize=(5.5,4))\n",
        "sns.heatmap(cm_df, annot=True)\n",
        "plt.title('SVM Linear Kernel \\nAccuracy:{0:.3f}'.format(accuracy_score(y_test, y_pred)))\n",
        "plt.ylabel('True label')\n",
        "plt.xlabel('Predicted label')\n",
        "plt.show()"
      ],
      "metadata": {
        "colab": {
          "base_uri": "https://localhost:8080/",
          "height": 485
        },
        "id": "BFDEK3CUv2xu",
        "outputId": "cab902ea-bfc7-4710-e4df-9dbe71966120"
      },
      "execution_count": null,
      "outputs": [
        {
          "output_type": "stream",
          "name": "stderr",
          "text": [
            "/usr/local/lib/python3.9/dist-packages/sklearn/utils/validation.py:1143: DataConversionWarning: A column-vector y was passed when a 1d array was expected. Please change the shape of y to (n_samples, ), for example using ravel().\n",
            "  y = column_or_1d(y, warn=True)\n"
          ]
        },
        {
          "output_type": "display_data",
          "data": {
            "text/plain": [
              "<Figure size 550x400 with 2 Axes>"
            ],
            "image/png": "[encoded data removed]"
          },
          "metadata": {}
        }
      ]
    },
    {
      "cell_type": "code",
      "source": [
        "print(classification_report(y_test, y_pred))"
      ],
      "metadata": {
        "colab": {
          "base_uri": "https://localhost:8080/"
        },
        "id": "3t9Vd0xC5M1c",
        "outputId": "df9dddd3-0a2c-4428-e114-6b0e9da72415"
      },
      "execution_count": 51,
      "outputs": [
        {
          "output_type": "stream",
          "name": "stdout",
          "text": [
            "                 precision    recall  f1-score   support\n",
            "\n",
            "    Iris-setosa       1.00      1.00      1.00        15\n",
            "Iris-versicolor       1.00      1.00      1.00        11\n",
            " Iris-virginica       1.00      1.00      1.00        12\n",
            "\n",
            "       accuracy                           1.00        38\n",
            "      macro avg       1.00      1.00      1.00        38\n",
            "   weighted avg       1.00      1.00      1.00        38\n",
            "\n"
          ]
        }
      ]
    }
  ]
}