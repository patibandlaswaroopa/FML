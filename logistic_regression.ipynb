{
  "nbformat": 4,
  "nbformat_minor": 0,
  "metadata": {
    "colab": {
      "provenance": [],
      "authorship_tag": "ABX9TyMJdunknsohuyGBKnkWEN8f",
      "include_colab_link": true
    },
    "kernelspec": {
      "name": "python3",
      "display_name": "Python 3"
    },
    "language_info": {
      "name": "python"
    }
  },
  "cells": [
    {
      "cell_type": "markdown",
      "metadata": {
        "id": "view-in-github",
        "colab_type": "text"
      },
      "source": [
        "<a href=\"https://colab.research.google.com/github/patibandlaswaroopa/FML/blob/main/logistic_regression.ipynb\" target=\"_parent\"><img src=\"https://colab.research.google.com/assets/colab-badge.svg\" alt=\"Open In Colab\"/></a>"
      ]
    },
    {
      "cell_type": "code",
      "execution_count": 31,
      "metadata": {
        "id": "xYAjYukKeS7u"
      },
      "outputs": [],
      "source": [
        "import matplotlib.pyplot as plt\n",
        "import numpy as np\n",
        "import pandas as pd\n",
        "import seaborn as sns\n",
        "from sklearn.linear_model import LogisticRegression\n",
        "from sklearn.model_selection import train_test_split\n",
        "from sklearn.metrics import classification_report, confusion_matrix"
      ]
    },
    {
      "cell_type": "code",
      "source": [
        "data = pd.read_csv(\"/content/IRIS/IRIS.csv\")\n",
        "data.head()"
      ],
      "metadata": {
        "colab": {
          "base_uri": "https://localhost:8080/",
          "height": 204
        },
        "id": "0wggv8GnfCrb",
        "outputId": "4a2dab6f-093f-4e8a-8612-2895e958efa5"
      },
      "execution_count": 2,
      "outputs": [
        {
          "output_type": "execute_result",
          "data": {
            "text/plain": [
              "   sepal_length  sepal_width  petal_length  petal_width      species\n",
              "0           5.1          3.5           1.4          0.2  Iris-setosa\n",
              "1           4.9          3.0           1.4          0.2  Iris-setosa\n",
              "2           4.7          3.2           1.3          0.2  Iris-setosa\n",
              "3           4.6          3.1           1.5          0.2  Iris-setosa\n",
              "4           5.0          3.6           1.4          0.2  Iris-setosa"
            ],
            "text/html": [
              "\n",
              "  <div id=\"df-0c0f105d-a2f5-4c04-9120-a3c557ced2b8\">\n",
              "    <div class=\"colab-df-container\">\n",
              "      <div>\n",
              "<style scoped>\n",
              "    .dataframe tbody tr th:only-of-type {\n",
              "        vertical-align: middle;\n",
              "    }\n",
              "\n",
              "    .dataframe tbody tr th {\n",
              "        vertical-align: top;\n",
              "    }\n",
              "\n",
              "    .dataframe thead th {\n",
              "        text-align: right;\n",
              "    }\n",
              "</style>\n",
              "<table border=\"1\" class=\"dataframe\">\n",
              "  <thead>\n",
              "    <tr style=\"text-align: right;\">\n",
              "      <th></th>\n",
              "      <th>sepal_length</th>\n",
              "      <th>sepal_width</th>\n",
              "      <th>petal_length</th>\n",
              "      <th>petal_width</th>\n",
              "      <th>species</th>\n",
              "    </tr>\n",
              "  </thead>\n",
              "  <tbody>\n",
              "    <tr>\n",
              "      <th>0</th>\n",
              "      <td>5.1</td>\n",
              "      <td>3.5</td>\n",
              "      <td>1.4</td>\n",
              "      <td>0.2</td>\n",
              "      <td>Iris-setosa</td>\n",
              "    </tr>\n",
              "    <tr>\n",
              "      <th>1</th>\n",
              "      <td>4.9</td>\n",
              "      <td>3.0</td>\n",
              "      <td>1.4</td>\n",
              "      <td>0.2</td>\n",
              "      <td>Iris-setosa</td>\n",
              "    </tr>\n",
              "    <tr>\n",
              "      <th>2</th>\n",
              "      <td>4.7</td>\n",
              "      <td>3.2</td>\n",
              "      <td>1.3</td>\n",
              "      <td>0.2</td>\n",
              "      <td>Iris-setosa</td>\n",
              "    </tr>\n",
              "    <tr>\n",
              "      <th>3</th>\n",
              "      <td>4.6</td>\n",
              "      <td>3.1</td>\n",
              "      <td>1.5</td>\n",
              "      <td>0.2</td>\n",
              "      <td>Iris-setosa</td>\n",
              "    </tr>\n",
              "    <tr>\n",
              "      <th>4</th>\n",
              "      <td>5.0</td>\n",
              "      <td>3.6</td>\n",
              "      <td>1.4</td>\n",
              "      <td>0.2</td>\n",
              "      <td>Iris-setosa</td>\n",
              "    </tr>\n",
              "  </tbody>\n",
              "</table>\n",
              "</div>\n",
              "      <button class=\"colab-df-convert\" onclick=\"convertToInteractive('df-0c0f105d-a2f5-4c04-9120-a3c557ced2b8')\"\n",
              "              title=\"Convert this dataframe to an interactive table.\"\n",
              "              style=\"display:none;\">\n",
              "        \n",
              "  <svg xmlns=\"http://www.w3.org/2000/svg\" height=\"24px\"viewBox=\"0 0 24 24\"\n",
              "       width=\"24px\">\n",
              "    <path d=\"M0 0h24v24H0V0z\" fill=\"none\"/>\n",
              "    <path d=\"M18.56 5.44l.94 2.06.94-2.06 2.06-.94-2.06-.94-.94-2.06-.94 2.06-2.06.94zm-11 1L8.5 8.5l.94-2.06 2.06-.94-2.06-.94L8.5 2.5l-.94 2.06-2.06.94zm10 10l.94 2.06.94-2.06 2.06-.94-2.06-.94-.94-2.06-.94 2.06-2.06.94z\"/><path d=\"M17.41 7.96l-1.37-1.37c-.4-.4-.92-.59-1.43-.59-.52 0-1.04.2-1.43.59L10.3 9.45l-7.72 7.72c-.78.78-.78 2.05 0 2.83L4 21.41c.39.39.9.59 1.41.59.51 0 1.02-.2 1.41-.59l7.78-7.78 2.81-2.81c.8-.78.8-2.07 0-2.86zM5.41 20L4 18.59l7.72-7.72 1.47 1.35L5.41 20z\"/>\n",
              "  </svg>\n",
              "      </button>\n",
              "      \n",
              "  <style>\n",
              "    .colab-df-container {\n",
              "      display:flex;\n",
              "      flex-wrap:wrap;\n",
              "      gap: 12px;\n",
              "    }\n",
              "\n",
              "    .colab-df-convert {\n",
              "      background-color: #E8F0FE;\n",
              "      border: none;\n",
              "      border-radius: 50%;\n",
              "      cursor: pointer;\n",
              "      display: none;\n",
              "      fill: #1967D2;\n",
              "      height: 32px;\n",
              "      padding: 0 0 0 0;\n",
              "      width: 32px;\n",
              "    }\n",
              "\n",
              "    .colab-df-convert:hover {\n",
              "      background-color: #E2EBFA;\n",
              "      box-shadow: 0px 1px 2px rgba(60, 64, 67, 0.3), 0px 1px 3px 1px rgba(60, 64, 67, 0.15);\n",
              "      fill: #174EA6;\n",
              "    }\n",
              "\n",
              "    [theme=dark] .colab-df-convert {\n",
              "      background-color: #3B4455;\n",
              "      fill: #D2E3FC;\n",
              "    }\n",
              "\n",
              "    [theme=dark] .colab-df-convert:hover {\n",
              "      background-color: #434B5C;\n",
              "      box-shadow: 0px 1px 3px 1px rgba(0, 0, 0, 0.15);\n",
              "      filter: drop-shadow(0px 1px 2px rgba(0, 0, 0, 0.3));\n",
              "      fill: #FFFFFF;\n",
              "    }\n",
              "  </style>\n",
              "\n",
              "      <script>\n",
              "        const buttonEl =\n",
              "          document.querySelector('#df-0c0f105d-a2f5-4c04-9120-a3c557ced2b8 button.colab-df-convert');\n",
              "        buttonEl.style.display =\n",
              "          google.colab.kernel.accessAllowed ? 'block' : 'none';\n",
              "\n",
              "        async function convertToInteractive(key) {\n",
              "          const element = document.querySelector('#df-0c0f105d-a2f5-4c04-9120-a3c557ced2b8');\n",
              "          const dataTable =\n",
              "            await google.colab.kernel.invokeFunction('convertToInteractive',\n",
              "                                                     [key], {});\n",
              "          if (!dataTable) return;\n",
              "\n",
              "          const docLinkHtml = 'Like what you see? Visit the ' +\n",
              "            '<a target=\"_blank\" href=https://colab.research.google.com/notebooks/data_table.ipynb>data table notebook</a>'\n",
              "            + ' to learn more about interactive tables.';\n",
              "          element.innerHTML = '';\n",
              "          dataTable['output_type'] = 'display_data';\n",
              "          await google.colab.output.renderOutput(dataTable, element);\n",
              "          const docLink = document.createElement('div');\n",
              "          docLink.innerHTML = docLinkHtml;\n",
              "          element.appendChild(docLink);\n",
              "        }\n",
              "      </script>\n",
              "    </div>\n",
              "  </div>\n",
              "  "
            ]
          },
          "metadata": {},
          "execution_count": 2
        }
      ]
    },
    {
      "cell_type": "code",
      "source": [
        "data.info()"
      ],
      "metadata": {
        "colab": {
          "base_uri": "https://localhost:8080/"
        },
        "id": "m_lswMPTfK6q",
        "outputId": "37c11781-d793-4fe8-dd89-bf935321ba2e"
      },
      "execution_count": 3,
      "outputs": [
        {
          "output_type": "stream",
          "name": "stdout",
          "text": [
            "<class 'pandas.core.frame.DataFrame'>\n",
            "RangeIndex: 150 entries, 0 to 149\n",
            "Data columns (total 5 columns):\n",
            " #   Column        Non-Null Count  Dtype  \n",
            "---  ------        --------------  -----  \n",
            " 0   sepal_length  150 non-null    float64\n",
            " 1   sepal_width   150 non-null    float64\n",
            " 2   petal_length  150 non-null    float64\n",
            " 3   petal_width   150 non-null    float64\n",
            " 4   species       150 non-null    object \n",
            "dtypes: float64(4), object(1)\n",
            "memory usage: 6.0+ KB\n"
          ]
        }
      ]
    },
    {
      "cell_type": "code",
      "source": [
        "data.head(5)"
      ],
      "metadata": {
        "colab": {
          "base_uri": "https://localhost:8080/",
          "height": 204
        },
        "id": "7aTncY0vfMmh",
        "outputId": "418b02aa-1263-40b9-a1d2-1abfcb5d7294"
      },
      "execution_count": 5,
      "outputs": [
        {
          "output_type": "execute_result",
          "data": {
            "text/plain": [
              "   sepal_length  sepal_width  petal_length  petal_width      species\n",
              "0           5.1          3.5           1.4          0.2  Iris-setosa\n",
              "1           4.9          3.0           1.4          0.2  Iris-setosa\n",
              "2           4.7          3.2           1.3          0.2  Iris-setosa\n",
              "3           4.6          3.1           1.5          0.2  Iris-setosa\n",
              "4           5.0          3.6           1.4          0.2  Iris-setosa"
            ],
            "text/html": [
              "\n",
              "  <div id=\"df-2192282e-20e6-43d6-afce-a52f3d2cb91e\">\n",
              "    <div class=\"colab-df-container\">\n",
              "      <div>\n",
              "<style scoped>\n",
              "    .dataframe tbody tr th:only-of-type {\n",
              "        vertical-align: middle;\n",
              "    }\n",
              "\n",
              "    .dataframe tbody tr th {\n",
              "        vertical-align: top;\n",
              "    }\n",
              "\n",
              "    .dataframe thead th {\n",
              "        text-align: right;\n",
              "    }\n",
              "</style>\n",
              "<table border=\"1\" class=\"dataframe\">\n",
              "  <thead>\n",
              "    <tr style=\"text-align: right;\">\n",
              "      <th></th>\n",
              "      <th>sepal_length</th>\n",
              "      <th>sepal_width</th>\n",
              "      <th>petal_length</th>\n",
              "      <th>petal_width</th>\n",
              "      <th>species</th>\n",
              "    </tr>\n",
              "  </thead>\n",
              "  <tbody>\n",
              "    <tr>\n",
              "      <th>0</th>\n",
              "      <td>5.1</td>\n",
              "      <td>3.5</td>\n",
              "      <td>1.4</td>\n",
              "      <td>0.2</td>\n",
              "      <td>Iris-setosa</td>\n",
              "    </tr>\n",
              "    <tr>\n",
              "      <th>1</th>\n",
              "      <td>4.9</td>\n",
              "      <td>3.0</td>\n",
              "      <td>1.4</td>\n",
              "      <td>0.2</td>\n",
              "      <td>Iris-setosa</td>\n",
              "    </tr>\n",
              "    <tr>\n",
              "      <th>2</th>\n",
              "      <td>4.7</td>\n",
              "      <td>3.2</td>\n",
              "      <td>1.3</td>\n",
              "      <td>0.2</td>\n",
              "      <td>Iris-setosa</td>\n",
              "    </tr>\n",
              "    <tr>\n",
              "      <th>3</th>\n",
              "      <td>4.6</td>\n",
              "      <td>3.1</td>\n",
              "      <td>1.5</td>\n",
              "      <td>0.2</td>\n",
              "      <td>Iris-setosa</td>\n",
              "    </tr>\n",
              "    <tr>\n",
              "      <th>4</th>\n",
              "      <td>5.0</td>\n",
              "      <td>3.6</td>\n",
              "      <td>1.4</td>\n",
              "      <td>0.2</td>\n",
              "      <td>Iris-setosa</td>\n",
              "    </tr>\n",
              "  </tbody>\n",
              "</table>\n",
              "</div>\n",
              "      <button class=\"colab-df-convert\" onclick=\"convertToInteractive('df-2192282e-20e6-43d6-afce-a52f3d2cb91e')\"\n",
              "              title=\"Convert this dataframe to an interactive table.\"\n",
              "              style=\"display:none;\">\n",
              "        \n",
              "  <svg xmlns=\"http://www.w3.org/2000/svg\" height=\"24px\"viewBox=\"0 0 24 24\"\n",
              "       width=\"24px\">\n",
              "    <path d=\"M0 0h24v24H0V0z\" fill=\"none\"/>\n",
              "    <path d=\"M18.56 5.44l.94 2.06.94-2.06 2.06-.94-2.06-.94-.94-2.06-.94 2.06-2.06.94zm-11 1L8.5 8.5l.94-2.06 2.06-.94-2.06-.94L8.5 2.5l-.94 2.06-2.06.94zm10 10l.94 2.06.94-2.06 2.06-.94-2.06-.94-.94-2.06-.94 2.06-2.06.94z\"/><path d=\"M17.41 7.96l-1.37-1.37c-.4-.4-.92-.59-1.43-.59-.52 0-1.04.2-1.43.59L10.3 9.45l-7.72 7.72c-.78.78-.78 2.05 0 2.83L4 21.41c.39.39.9.59 1.41.59.51 0 1.02-.2 1.41-.59l7.78-7.78 2.81-2.81c.8-.78.8-2.07 0-2.86zM5.41 20L4 18.59l7.72-7.72 1.47 1.35L5.41 20z\"/>\n",
              "  </svg>\n",
              "      </button>\n",
              "      \n",
              "  <style>\n",
              "    .colab-df-container {\n",
              "      display:flex;\n",
              "      flex-wrap:wrap;\n",
              "      gap: 12px;\n",
              "    }\n",
              "\n",
              "    .colab-df-convert {\n",
              "      background-color: #E8F0FE;\n",
              "      border: none;\n",
              "      border-radius: 50%;\n",
              "      cursor: pointer;\n",
              "      display: none;\n",
              "      fill: #1967D2;\n",
              "      height: 32px;\n",
              "      padding: 0 0 0 0;\n",
              "      width: 32px;\n",
              "    }\n",
              "\n",
              "    .colab-df-convert:hover {\n",
              "      background-color: #E2EBFA;\n",
              "      box-shadow: 0px 1px 2px rgba(60, 64, 67, 0.3), 0px 1px 3px 1px rgba(60, 64, 67, 0.15);\n",
              "      fill: #174EA6;\n",
              "    }\n",
              "\n",
              "    [theme=dark] .colab-df-convert {\n",
              "      background-color: #3B4455;\n",
              "      fill: #D2E3FC;\n",
              "    }\n",
              "\n",
              "    [theme=dark] .colab-df-convert:hover {\n",
              "      background-color: #434B5C;\n",
              "      box-shadow: 0px 1px 3px 1px rgba(0, 0, 0, 0.15);\n",
              "      filter: drop-shadow(0px 1px 2px rgba(0, 0, 0, 0.3));\n",
              "      fill: #FFFFFF;\n",
              "    }\n",
              "  </style>\n",
              "\n",
              "      <script>\n",
              "        const buttonEl =\n",
              "          document.querySelector('#df-2192282e-20e6-43d6-afce-a52f3d2cb91e button.colab-df-convert');\n",
              "        buttonEl.style.display =\n",
              "          google.colab.kernel.accessAllowed ? 'block' : 'none';\n",
              "\n",
              "        async function convertToInteractive(key) {\n",
              "          const element = document.querySelector('#df-2192282e-20e6-43d6-afce-a52f3d2cb91e');\n",
              "          const dataTable =\n",
              "            await google.colab.kernel.invokeFunction('convertToInteractive',\n",
              "                                                     [key], {});\n",
              "          if (!dataTable) return;\n",
              "\n",
              "          const docLinkHtml = 'Like what you see? Visit the ' +\n",
              "            '<a target=\"_blank\" href=https://colab.research.google.com/notebooks/data_table.ipynb>data table notebook</a>'\n",
              "            + ' to learn more about interactive tables.';\n",
              "          element.innerHTML = '';\n",
              "          dataTable['output_type'] = 'display_data';\n",
              "          await google.colab.output.renderOutput(dataTable, element);\n",
              "          const docLink = document.createElement('div');\n",
              "          docLink.innerHTML = docLinkHtml;\n",
              "          element.appendChild(docLink);\n",
              "        }\n",
              "      </script>\n",
              "    </div>\n",
              "  </div>\n",
              "  "
            ]
          },
          "metadata": {},
          "execution_count": 5
        }
      ]
    },
    {
      "cell_type": "code",
      "source": [
        "x=data.drop('species', axis=1).values\n",
        "y=data['species'].values"
      ],
      "metadata": {
        "id": "qqH19OdmfTMJ"
      },
      "execution_count": 8,
      "outputs": []
    },
    {
      "cell_type": "code",
      "source": [
        "X_train, X_test, y_train, y_test = train_test_split(x, y, test_size=0.25, random_state=42)"
      ],
      "metadata": {
        "id": "HaR_NBrUvDJY"
      },
      "execution_count": 32,
      "outputs": []
    },
    {
      "cell_type": "code",
      "source": [
        "X_train.shape, X_test.shape"
      ],
      "metadata": {
        "colab": {
          "base_uri": "https://localhost:8080/"
        },
        "id": "UiAdpLtkvtR3",
        "outputId": "115518af-05a9-4c06-c3e7-08e128ff3326"
      },
      "execution_count": 33,
      "outputs": [
        {
          "output_type": "execute_result",
          "data": {
            "text/plain": [
              "((112, 4), (38, 4))"
            ]
          },
          "metadata": {},
          "execution_count": 33
        }
      ]
    },
    {
      "cell_type": "code",
      "source": [
        "model = LogisticRegression(C=0.5)\n",
        "model.fit(X_train,y_train)"
      ],
      "metadata": {
        "colab": {
          "base_uri": "https://localhost:8080/",
          "height": 128
        },
        "id": "qv-qX6Rci5KN",
        "outputId": "85fb4426-af9a-466c-a596-f468fcd0dcae"
      },
      "execution_count": 37,
      "outputs": [
        {
          "output_type": "stream",
          "name": "stderr",
          "text": [
            "/usr/local/lib/python3.9/dist-packages/sklearn/utils/validation.py:1143: DataConversionWarning: A column-vector y was passed when a 1d array was expected. Please change the shape of y to (n_samples, ), for example using ravel().\n",
            "  y = column_or_1d(y, warn=True)\n"
          ]
        },
        {
          "output_type": "execute_result",
          "data": {
            "text/plain": [
              "LogisticRegression(C=0.5)"
            ],
            "text/html": [
              "<style>#sk-container-id-3 {color: black;background-color: white;}#sk-container-id-3 pre{padding: 0;}#sk-container-id-3 div.sk-toggleable {background-color: white;}#sk-container-id-3 label.sk-toggleable__label {cursor: pointer;display: block;width: 100%;margin-bottom: 0;padding: 0.3em;box-sizing: border-box;text-align: center;}#sk-container-id-3 label.sk-toggleable__label-arrow:before {content: \"▸\";float: left;margin-right: 0.25em;color: #696969;}#sk-container-id-3 label.sk-toggleable__label-arrow:hover:before {color: black;}#sk-container-id-3 div.sk-estimator:hover label.sk-toggleable__label-arrow:before {color: black;}#sk-container-id-3 div.sk-toggleable__content {max-height: 0;max-width: 0;overflow: hidden;text-align: left;background-color: #f0f8ff;}#sk-container-id-3 div.sk-toggleable__content pre {margin: 0.2em;color: black;border-radius: 0.25em;background-color: #f0f8ff;}#sk-container-id-3 input.sk-toggleable__control:checked~div.sk-toggleable__content {max-height: 200px;max-width: 100%;overflow: auto;}#sk-container-id-3 input.sk-toggleable__control:checked~label.sk-toggleable__label-arrow:before {content: \"▾\";}#sk-container-id-3 div.sk-estimator input.sk-toggleable__control:checked~label.sk-toggleable__label {background-color: #d4ebff;}#sk-container-id-3 div.sk-label input.sk-toggleable__control:checked~label.sk-toggleable__label {background-color: #d4ebff;}#sk-container-id-3 input.sk-hidden--visually {border: 0;clip: rect(1px 1px 1px 1px);clip: rect(1px, 1px, 1px, 1px);height: 1px;margin: -1px;overflow: hidden;padding: 0;position: absolute;width: 1px;}#sk-container-id-3 div.sk-estimator {font-family: monospace;background-color: #f0f8ff;border: 1px dotted black;border-radius: 0.25em;box-sizing: border-box;margin-bottom: 0.5em;}#sk-container-id-3 div.sk-estimator:hover {background-color: #d4ebff;}#sk-container-id-3 div.sk-parallel-item::after {content: \"\";width: 100%;border-bottom: 1px solid gray;flex-grow: 1;}#sk-container-id-3 div.sk-label:hover label.sk-toggleable__label {background-color: #d4ebff;}#sk-container-id-3 div.sk-serial::before {content: \"\";position: absolute;border-left: 1px solid gray;box-sizing: border-box;top: 0;bottom: 0;left: 50%;z-index: 0;}#sk-container-id-3 div.sk-serial {display: flex;flex-direction: column;align-items: center;background-color: white;padding-right: 0.2em;padding-left: 0.2em;position: relative;}#sk-container-id-3 div.sk-item {position: relative;z-index: 1;}#sk-container-id-3 div.sk-parallel {display: flex;align-items: stretch;justify-content: center;background-color: white;position: relative;}#sk-container-id-3 div.sk-item::before, #sk-container-id-3 div.sk-parallel-item::before {content: \"\";position: absolute;border-left: 1px solid gray;box-sizing: border-box;top: 0;bottom: 0;left: 50%;z-index: -1;}#sk-container-id-3 div.sk-parallel-item {display: flex;flex-direction: column;z-index: 1;position: relative;background-color: white;}#sk-container-id-3 div.sk-parallel-item:first-child::after {align-self: flex-end;width: 50%;}#sk-container-id-3 div.sk-parallel-item:last-child::after {align-self: flex-start;width: 50%;}#sk-container-id-3 div.sk-parallel-item:only-child::after {width: 0;}#sk-container-id-3 div.sk-dashed-wrapped {border: 1px dashed gray;margin: 0 0.4em 0.5em 0.4em;box-sizing: border-box;padding-bottom: 0.4em;background-color: white;}#sk-container-id-3 div.sk-label label {font-family: monospace;font-weight: bold;display: inline-block;line-height: 1.2em;}#sk-container-id-3 div.sk-label-container {text-align: center;}#sk-container-id-3 div.sk-container {/* jupyter's `normalize.less` sets `[hidden] { display: none; }` but bootstrap.min.css set `[hidden] { display: none !important; }` so we also need the `!important` here to be able to override the default hidden behavior on the sphinx rendered scikit-learn.org. See: https://github.com/scikit-learn/scikit-learn/issues/21755 */display: inline-block !important;position: relative;}#sk-container-id-3 div.sk-text-repr-fallback {display: none;}</style><div id=\"sk-container-id-3\" class=\"sk-top-container\"><div class=\"sk-text-repr-fallback\"><pre>LogisticRegression(C=0.5)</pre><b>In a Jupyter environment, please rerun this cell to show the HTML representation or trust the notebook. <br />On GitHub, the HTML representation is unable to render, please try loading this page with nbviewer.org.</b></div><div class=\"sk-container\" hidden><div class=\"sk-item\"><div class=\"sk-estimator sk-toggleable\"><input class=\"sk-toggleable__control sk-hidden--visually\" id=\"sk-estimator-id-3\" type=\"checkbox\" checked><label for=\"sk-estimator-id-3\" class=\"sk-toggleable__label sk-toggleable__label-arrow\">LogisticRegression</label><div class=\"sk-toggleable__content\"><pre>LogisticRegression(C=0.5)</pre></div></div></div></div></div>"
            ]
          },
          "metadata": {},
          "execution_count": 37
        }
      ]
    },
    {
      "cell_type": "code",
      "source": [
        "model.classes_"
      ],
      "metadata": {
        "colab": {
          "base_uri": "https://localhost:8080/"
        },
        "id": "tPL_6SofjHqm",
        "outputId": "bee92659-af28-4ab1-d64b-0475ef31c7f0"
      },
      "execution_count": 13,
      "outputs": [
        {
          "output_type": "execute_result",
          "data": {
            "text/plain": [
              "array(['Iris-setosa', 'Iris-versicolor', 'Iris-virginica'], dtype=object)"
            ]
          },
          "metadata": {},
          "execution_count": 13
        }
      ]
    },
    {
      "cell_type": "code",
      "source": [
        "model.intercept_"
      ],
      "metadata": {
        "colab": {
          "base_uri": "https://localhost:8080/"
        },
        "id": "erFGVD54jSlv",
        "outputId": "6a572f64-4ba6-4f9f-ca31-d58a1c37af0d"
      },
      "execution_count": 14,
      "outputs": [
        {
          "output_type": "execute_result",
          "data": {
            "text/plain": [
              "array([  8.52936262,   2.09256694, -10.62192956])"
            ]
          },
          "metadata": {},
          "execution_count": 14
        }
      ]
    },
    {
      "cell_type": "code",
      "source": [
        "model.coef_\n",
        "     "
      ],
      "metadata": {
        "colab": {
          "base_uri": "https://localhost:8080/"
        },
        "id": "SY9YZHG9jb5p",
        "outputId": "0580fad4-0b5c-41d3-9fbc-f889185ed094"
      },
      "execution_count": 15,
      "outputs": [
        {
          "output_type": "execute_result",
          "data": {
            "text/plain": [
              "array([[-0.40694499,  0.72598561, -2.06471895, -0.86854586],\n",
              "       [ 0.37111105, -0.35698962, -0.10743245, -0.67283322],\n",
              "       [ 0.03583394, -0.36899599,  2.17215141,  1.54137908]])"
            ]
          },
          "metadata": {},
          "execution_count": 15
        }
      ]
    },
    {
      "cell_type": "code",
      "source": [
        "model.predict_proba(x)"
      ],
      "metadata": {
        "colab": {
          "base_uri": "https://localhost:8080/"
        },
        "id": "F1mPDurjjfli",
        "outputId": "f6408a0f-8319-456e-e88a-a66574301e70"
      },
      "execution_count": 16,
      "outputs": [
        {
          "output_type": "execute_result",
          "data": {
            "text/plain": [
              "array([[9.70106355e-01, 2.98930549e-02, 5.90496971e-07],\n",
              "       [9.56639672e-01, 4.33594067e-02, 9.21424289e-07],\n",
              "       [9.74957512e-01, 2.50420362e-02, 4.51984805e-07],\n",
              "       [9.62307008e-01, 3.76918812e-02, 1.11118528e-06],\n",
              "       [9.75056016e-01, 2.49434749e-02, 5.08913299e-07],\n",
              "       [9.54919165e-01, 4.50783621e-02, 2.47271650e-06],\n",
              "       [9.76817668e-01, 2.31816552e-02, 6.76518638e-07],\n",
              "       [9.62799869e-01, 3.71991757e-02, 9.55573487e-07],\n",
              "       [9.66901494e-01, 3.30976736e-02, 8.32721398e-07],\n",
              "       [9.53735961e-01, 4.62630505e-02, 9.88389703e-07],\n",
              "       [9.63286514e-01, 3.67126643e-02, 8.21748248e-07],\n",
              "       [9.61335702e-01, 3.86629643e-02, 1.33397839e-06],\n",
              "       [9.60504138e-01, 3.94951664e-02, 6.95535265e-07],\n",
              "       [9.84745121e-01, 1.52547187e-02, 1.60317416e-07],\n",
              "       [9.79529256e-01, 2.04705422e-02, 2.01484263e-07],\n",
              "       [9.77083640e-01, 2.29156440e-02, 7.16219722e-07],\n",
              "       [9.78878518e-01, 2.11210170e-02, 4.65496852e-07],\n",
              "       [9.69533391e-01, 3.04658579e-02, 7.50970377e-07],\n",
              "       [9.38833671e-01, 6.11638950e-02, 2.43432211e-06],\n",
              "       [9.73125661e-01, 2.68735097e-02, 8.29030602e-07],\n",
              "       [9.27630182e-01, 7.23672532e-02, 2.56466946e-06],\n",
              "       [9.69571214e-01, 3.04276131e-02, 1.17272857e-06],\n",
              "       [9.91507224e-01, 8.49269648e-03, 7.96107604e-08],\n",
              "       [9.31960912e-01, 6.80339010e-02, 5.18686413e-06],\n",
              "       [9.32528046e-01, 6.74673415e-02, 4.61264943e-06],\n",
              "       [9.32428603e-01, 6.75692068e-02, 2.19061665e-06],\n",
              "       [9.53409043e-01, 4.65886168e-02, 2.34064580e-06],\n",
              "       [9.61067725e-01, 3.89313407e-02, 9.34086088e-07],\n",
              "       [9.64210576e-01, 3.57887394e-02, 6.84469825e-07],\n",
              "       [9.55833465e-01, 4.41649556e-02, 1.57955663e-06],\n",
              "       [9.47275730e-01, 5.27224444e-02, 1.82563298e-06],\n",
              "       [9.48002379e-01, 5.19958022e-02, 1.81877717e-06],\n",
              "       [9.79679248e-01, 2.03203641e-02, 3.87907726e-07],\n",
              "       [9.80670852e-01, 1.93288172e-02, 3.31099895e-07],\n",
              "       [9.53735961e-01, 4.62630505e-02, 9.88389703e-07],\n",
              "       [9.74020811e-01, 2.59788514e-02, 3.37590622e-07],\n",
              "       [9.66569095e-01, 3.34304452e-02, 4.59774484e-07],\n",
              "       [9.53735961e-01, 4.62630505e-02, 9.88389703e-07],\n",
              "       [9.75364909e-01, 2.46345977e-02, 4.92861883e-07],\n",
              "       [9.59910613e-01, 4.00883916e-02, 9.95837569e-07],\n",
              "       [9.76654352e-01, 2.33451739e-02, 4.73768671e-07],\n",
              "       [9.43915434e-01, 5.60832003e-02, 1.36541187e-06],\n",
              "       [9.80066816e-01, 1.99327858e-02, 3.97836749e-07],\n",
              "       [9.56385218e-01, 4.36113743e-02, 3.40767572e-06],\n",
              "       [9.41957821e-01, 5.80366188e-02, 5.56050929e-06],\n",
              "       [9.58991783e-01, 4.10070924e-02, 1.12449679e-06],\n",
              "       [9.68114029e-01, 3.18849807e-02, 9.90082495e-07],\n",
              "       [9.71911146e-01, 2.80881955e-02, 6.58476083e-07],\n",
              "       [9.65941103e-01, 3.40581085e-02, 7.88323202e-07],\n",
              "       [9.65807876e-01, 3.41914234e-02, 7.00113282e-07],\n",
              "       [5.16145597e-03, 7.79411245e-01, 2.15427299e-01],\n",
              "       [1.19439041e-02, 7.79631591e-01, 2.08424505e-01],\n",
              "       [2.71654706e-03, 6.37913190e-01, 3.59370263e-01],\n",
              "       [2.90959559e-02, 9.03107089e-01, 6.77969552e-02],\n",
              "       [5.66537967e-03, 7.49719182e-01, 2.44615438e-01],\n",
              "       [1.44097044e-02, 8.09090424e-01, 1.76499872e-01],\n",
              "       [7.86349231e-03, 6.42750556e-01, 3.49385952e-01],\n",
              "       [1.91418557e-01, 8.00918254e-01, 7.66318943e-03],\n",
              "       [6.69286653e-03, 8.26113867e-01, 1.67193267e-01],\n",
              "       [6.46845611e-02, 8.64369385e-01, 7.09460539e-02],\n",
              "       [8.72001830e-02, 8.99605095e-01, 1.31947217e-02],\n",
              "       [2.74559412e-02, 8.38457683e-01, 1.34086376e-01],\n",
              "       [1.97231557e-02, 9.49226137e-01, 3.10507075e-02],\n",
              "       [6.96071295e-03, 7.22158144e-01, 2.70881143e-01],\n",
              "       [1.08235274e-01, 8.66667277e-01, 2.50974490e-02],\n",
              "       [1.15594797e-02, 8.56214330e-01, 1.32226190e-01],\n",
              "       [1.67384509e-02, 7.28115134e-01, 2.55146415e-01],\n",
              "       [3.18228595e-02, 9.27662898e-01, 4.05142421e-02],\n",
              "       [4.67850024e-03, 7.71967207e-01, 2.23354292e-01],\n",
              "       [4.31922571e-02, 9.22643182e-01, 3.41645613e-02],\n",
              "       [5.31598841e-03, 4.48626697e-01, 5.46057314e-01],\n",
              "       [3.16816845e-02, 9.12626489e-01, 5.56918261e-02],\n",
              "       [2.08936280e-03, 5.89132578e-01, 4.08778059e-01],\n",
              "       [7.19476428e-03, 7.99887283e-01, 1.92917953e-01],\n",
              "       [1.51192888e-02, 8.87904800e-01, 9.69759111e-02],\n",
              "       [1.11640383e-02, 8.52526715e-01, 1.36309247e-01],\n",
              "       [2.99549159e-03, 7.26135041e-01, 2.70869467e-01],\n",
              "       [1.61701182e-03, 4.58049830e-01, 5.40333158e-01],\n",
              "       [1.14318029e-02, 7.56475241e-01, 2.32092956e-01],\n",
              "       [9.62108871e-02, 8.93499764e-01, 1.02893488e-02],\n",
              "       [5.08633203e-02, 9.21024500e-01, 2.81121794e-02],\n",
              "       [6.29537851e-02, 9.19146546e-01, 1.78996692e-02],\n",
              "       [4.46863463e-02, 9.15835494e-01, 3.94781599e-02],\n",
              "       [1.46878838e-03, 3.98316392e-01, 6.00214820e-01],\n",
              "       [1.91636146e-02, 7.13478901e-01, 2.67357485e-01],\n",
              "       [1.81130623e-02, 7.11224126e-01, 2.70662812e-01],\n",
              "       [5.29754580e-03, 7.19830485e-01, 2.74871969e-01],\n",
              "       [6.86686170e-03, 8.68969971e-01, 1.24163167e-01],\n",
              "       [4.57708755e-02, 8.75102937e-01, 7.91261872e-02],\n",
              "       [3.58858749e-02, 8.96941518e-01, 6.71726073e-02],\n",
              "       [1.77623400e-02, 8.54719377e-01, 1.27518283e-01],\n",
              "       [9.96189327e-03, 7.62576792e-01, 2.27461315e-01],\n",
              "       [3.30225495e-02, 9.17255055e-01, 4.97223955e-02],\n",
              "       [1.64293833e-01, 8.28035540e-01, 7.67062721e-03],\n",
              "       [2.71394219e-02, 8.73320061e-01, 9.95405173e-02],\n",
              "       [3.59502031e-02, 8.86065844e-01, 7.79839526e-02],\n",
              "       [3.11635537e-02, 8.72859478e-01, 9.59769686e-02],\n",
              "       [1.75026773e-02, 8.79748300e-01, 1.02749023e-01],\n",
              "       [2.85649652e-01, 7.10352641e-01, 3.99770690e-03],\n",
              "       [3.45858697e-02, 8.87616161e-01, 7.77979689e-02],\n",
              "       [1.02966980e-05, 1.27841700e-02, 9.87205533e-01],\n",
              "       [9.82490703e-04, 2.41832901e-01, 7.57184608e-01],\n",
              "       [2.00757211e-05, 4.88727169e-02, 9.51107207e-01],\n",
              "       [1.72000459e-04, 1.31257130e-01, 8.68570870e-01],\n",
              "       [3.17071696e-05, 4.05793753e-02, 9.59388918e-01],\n",
              "       [8.60875585e-07, 1.21706998e-02, 9.87828439e-01],\n",
              "       [1.29207389e-02, 5.82643359e-01, 4.04435902e-01],\n",
              "       [6.28304306e-06, 4.10861916e-02, 9.58907525e-01],\n",
              "       [4.13641380e-05, 9.82922474e-02, 9.01666388e-01],\n",
              "       [6.27833932e-06, 1.37987285e-02, 9.86194993e-01],\n",
              "       [9.74526363e-04, 2.45385530e-01, 7.53639943e-01],\n",
              "       [3.41609399e-04, 1.98366239e-01, 8.01292151e-01],\n",
              "       [1.17644052e-04, 1.03652118e-01, 8.96230238e-01],\n",
              "       [9.97336464e-04, 2.36483009e-01, 7.62519655e-01],\n",
              "       [3.92256052e-04, 9.55480948e-02, 9.04059649e-01],\n",
              "       [2.54853231e-04, 9.31240330e-02, 9.06621114e-01],\n",
              "       [2.56666200e-04, 1.68851988e-01, 8.30891346e-01],\n",
              "       [1.02152227e-06, 8.14053549e-03, 9.91858443e-01],\n",
              "       [9.28308018e-08, 4.09261484e-03, 9.95907292e-01],\n",
              "       [1.35092369e-03, 5.07646372e-01, 4.91002704e-01],\n",
              "       [3.94444364e-05, 4.65292017e-02, 9.53431354e-01],\n",
              "       [2.10043531e-03, 2.73762581e-01, 7.24136984e-01],\n",
              "       [5.50969039e-07, 1.24699041e-02, 9.87529545e-01],\n",
              "       [1.76790559e-03, 4.25687887e-01, 5.72544208e-01],\n",
              "       [7.62344165e-05, 6.64167220e-02, 9.33507044e-01],\n",
              "       [3.13256319e-05, 7.61245047e-02, 9.23844170e-01],\n",
              "       [2.88060347e-03, 4.73465424e-01, 5.23653973e-01],\n",
              "       [2.75227452e-03, 4.09867831e-01, 5.87379895e-01],\n",
              "       [7.62721625e-05, 7.43501747e-02, 9.25573553e-01],\n",
              "       [8.56264192e-05, 1.67993055e-01, 8.31921319e-01],\n",
              "       [9.75685543e-06, 5.29847914e-02, 9.47005452e-01],\n",
              "       [5.29749347e-06, 2.63660854e-02, 9.73628617e-01],\n",
              "       [6.08377048e-05, 6.04767503e-02, 9.39462412e-01],\n",
              "       [1.58455750e-03, 4.77546736e-01, 5.20868707e-01],\n",
              "       [3.04419526e-04, 2.54439771e-01, 7.45255809e-01],\n",
              "       [4.17599297e-06, 2.49405189e-02, 9.75055305e-01],\n",
              "       [7.75082087e-05, 3.87056232e-02, 9.61216869e-01],\n",
              "       [3.00935286e-04, 1.64356563e-01, 8.35342502e-01],\n",
              "       [4.03325870e-03, 4.56892202e-01, 5.39074539e-01],\n",
              "       [1.86016395e-04, 1.30711285e-01, 8.69102699e-01],\n",
              "       [4.64988240e-05, 4.38661543e-02, 9.56087347e-01],\n",
              "       [3.95317056e-04, 1.60581378e-01, 8.39023305e-01],\n",
              "       [9.82490703e-04, 2.41832901e-01, 7.57184608e-01],\n",
              "       [1.79931562e-05, 2.90445329e-02, 9.70937474e-01],\n",
              "       [3.02561161e-05, 2.85061326e-02, 9.71463611e-01],\n",
              "       [2.64342790e-04, 1.24558365e-01, 8.75177293e-01],\n",
              "       [8.65419415e-04, 3.20943404e-01, 6.78191177e-01],\n",
              "       [5.39996511e-04, 2.05360171e-01, 7.94099833e-01],\n",
              "       [2.32406863e-04, 7.11831711e-02, 9.28584422e-01],\n",
              "       [1.54958751e-03, 2.92142570e-01, 7.06307842e-01]])"
            ]
          },
          "metadata": {},
          "execution_count": 16
        }
      ]
    },
    {
      "cell_type": "code",
      "source": [
        "model.score(x,y)"
      ],
      "metadata": {
        "colab": {
          "base_uri": "https://localhost:8080/"
        },
        "id": "qLKg3_eRjhlo",
        "outputId": "97ee51b8-6aac-4bd6-b973-cb62c7c4aafe"
      },
      "execution_count": 17,
      "outputs": [
        {
          "output_type": "execute_result",
          "data": {
            "text/plain": [
              "0.9666666666666667"
            ]
          },
          "metadata": {},
          "execution_count": 17
        }
      ]
    },
    {
      "cell_type": "code",
      "source": [
        "y_pred = model.predict(x)\n",
        "print(y_pred)\n",
        "     "
      ],
      "metadata": {
        "colab": {
          "base_uri": "https://localhost:8080/"
        },
        "id": "QCqv-DADjmUp",
        "outputId": "20e0d2bf-30fe-45a5-920e-dfdd49908daa"
      },
      "execution_count": 18,
      "outputs": [
        {
          "output_type": "stream",
          "name": "stdout",
          "text": [
            "['Iris-setosa' 'Iris-setosa' 'Iris-setosa' 'Iris-setosa' 'Iris-setosa'\n",
            " 'Iris-setosa' 'Iris-setosa' 'Iris-setosa' 'Iris-setosa' 'Iris-setosa'\n",
            " 'Iris-setosa' 'Iris-setosa' 'Iris-setosa' 'Iris-setosa' 'Iris-setosa'\n",
            " 'Iris-setosa' 'Iris-setosa' 'Iris-setosa' 'Iris-setosa' 'Iris-setosa'\n",
            " 'Iris-setosa' 'Iris-setosa' 'Iris-setosa' 'Iris-setosa' 'Iris-setosa'\n",
            " 'Iris-setosa' 'Iris-setosa' 'Iris-setosa' 'Iris-setosa' 'Iris-setosa'\n",
            " 'Iris-setosa' 'Iris-setosa' 'Iris-setosa' 'Iris-setosa' 'Iris-setosa'\n",
            " 'Iris-setosa' 'Iris-setosa' 'Iris-setosa' 'Iris-setosa' 'Iris-setosa'\n",
            " 'Iris-setosa' 'Iris-setosa' 'Iris-setosa' 'Iris-setosa' 'Iris-setosa'\n",
            " 'Iris-setosa' 'Iris-setosa' 'Iris-setosa' 'Iris-setosa' 'Iris-setosa'\n",
            " 'Iris-versicolor' 'Iris-versicolor' 'Iris-versicolor' 'Iris-versicolor'\n",
            " 'Iris-versicolor' 'Iris-versicolor' 'Iris-versicolor' 'Iris-versicolor'\n",
            " 'Iris-versicolor' 'Iris-versicolor' 'Iris-versicolor' 'Iris-versicolor'\n",
            " 'Iris-versicolor' 'Iris-versicolor' 'Iris-versicolor' 'Iris-versicolor'\n",
            " 'Iris-versicolor' 'Iris-versicolor' 'Iris-versicolor' 'Iris-versicolor'\n",
            " 'Iris-virginica' 'Iris-versicolor' 'Iris-versicolor' 'Iris-versicolor'\n",
            " 'Iris-versicolor' 'Iris-versicolor' 'Iris-versicolor' 'Iris-virginica'\n",
            " 'Iris-versicolor' 'Iris-versicolor' 'Iris-versicolor' 'Iris-versicolor'\n",
            " 'Iris-versicolor' 'Iris-virginica' 'Iris-versicolor' 'Iris-versicolor'\n",
            " 'Iris-versicolor' 'Iris-versicolor' 'Iris-versicolor' 'Iris-versicolor'\n",
            " 'Iris-versicolor' 'Iris-versicolor' 'Iris-versicolor' 'Iris-versicolor'\n",
            " 'Iris-versicolor' 'Iris-versicolor' 'Iris-versicolor' 'Iris-versicolor'\n",
            " 'Iris-versicolor' 'Iris-versicolor' 'Iris-virginica' 'Iris-virginica'\n",
            " 'Iris-virginica' 'Iris-virginica' 'Iris-virginica' 'Iris-virginica'\n",
            " 'Iris-versicolor' 'Iris-virginica' 'Iris-virginica' 'Iris-virginica'\n",
            " 'Iris-virginica' 'Iris-virginica' 'Iris-virginica' 'Iris-virginica'\n",
            " 'Iris-virginica' 'Iris-virginica' 'Iris-virginica' 'Iris-virginica'\n",
            " 'Iris-virginica' 'Iris-versicolor' 'Iris-virginica' 'Iris-virginica'\n",
            " 'Iris-virginica' 'Iris-virginica' 'Iris-virginica' 'Iris-virginica'\n",
            " 'Iris-virginica' 'Iris-virginica' 'Iris-virginica' 'Iris-virginica'\n",
            " 'Iris-virginica' 'Iris-virginica' 'Iris-virginica' 'Iris-virginica'\n",
            " 'Iris-virginica' 'Iris-virginica' 'Iris-virginica' 'Iris-virginica'\n",
            " 'Iris-virginica' 'Iris-virginica' 'Iris-virginica' 'Iris-virginica'\n",
            " 'Iris-virginica' 'Iris-virginica' 'Iris-virginica' 'Iris-virginica'\n",
            " 'Iris-virginica' 'Iris-virginica' 'Iris-virginica' 'Iris-virginica']\n"
          ]
        }
      ]
    },
    {
      "cell_type": "code",
      "source": [
        "confusion_matrix(y, y_pred)"
      ],
      "metadata": {
        "colab": {
          "base_uri": "https://localhost:8080/"
        },
        "id": "VEzMSn5Kjx2a",
        "outputId": "3056a49f-2a61-4725-c6ea-2bd1c1feb586"
      },
      "execution_count": 19,
      "outputs": [
        {
          "output_type": "execute_result",
          "data": {
            "text/plain": [
              "array([[50,  0,  0],\n",
              "       [ 0, 47,  3],\n",
              "       [ 0,  2, 48]])"
            ]
          },
          "metadata": {},
          "execution_count": 19
        }
      ]
    },
    {
      "cell_type": "code",
      "source": [
        "from sklearn.svm import SVC\n",
        "from sklearn.metrics import accuracy_score, confusion_matrix, precision_recall_fscore_support\n",
        "\n",
        "clf = SVC(kernel = 'linear').fit(X_train,y_train)\n",
        "clf.predict(X_train)\n",
        "y_pred = clf.predict(X_test)\n",
        "\n",
        "# Creates a confusion matrix\n",
        "cm = confusion_matrix(y_test, y_pred) \n",
        "\n",
        "# Transform to df for easier plotting\n",
        "cm_df = pd.DataFrame(cm,\n",
        "                     index = ['setosa','versicolor','virginica'], \n",
        "                     columns = ['setosa','versicolor','virginica'])\n",
        "\n",
        "plt.figure(figsize=(5.5,4))\n",
        "sns.heatmap(cm_df, annot=True)\n",
        "plt.title('SVM Linear Kernel \\nAccuracy:{0:.3f}'.format(accuracy_score(y_test, y_pred)))\n",
        "plt.ylabel('True label')\n",
        "plt.xlabel('Predicted label')\n",
        "plt.show()"
      ],
      "metadata": {
        "colab": {
          "base_uri": "https://localhost:8080/",
          "height": 485
        },
        "id": "BFDEK3CUv2xu",
        "outputId": "103e93c6-9471-4c33-869f-13428503a396"
      },
      "execution_count": 38,
      "outputs": [
        {
          "output_type": "stream",
          "name": "stderr",
          "text": [
            "/usr/local/lib/python3.9/dist-packages/sklearn/utils/validation.py:1143: DataConversionWarning: A column-vector y was passed when a 1d array was expected. Please change the shape of y to (n_samples, ), for example using ravel().\n",
            "  y = column_or_1d(y, warn=True)\n"
          ]
        },
        {
          "output_type": "display_data",
          "data": {
            "text/plain": [
              "<Figure size 550x400 with 2 Axes>"
            ],
            "image/png": "[encoded data removed]"
          },
          "metadata": {}
        }
      ]
    }
  ]
}