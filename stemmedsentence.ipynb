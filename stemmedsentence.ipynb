{
  "nbformat": 4,
  "nbformat_minor": 0,
  "metadata": {
    "colab": {
      "provenance": [],
      "authorship_tag": "ABX9TyMm4wFsFLJ1SEcm08o0JKQN",
      "include_colab_link": true
    },
    "kernelspec": {
      "name": "python3",
      "display_name": "Python 3"
    },
    "language_info": {
      "name": "python"
    }
  },
  "cells": [
    {
      "cell_type": "markdown",
      "metadata": {
        "id": "view-in-github",
        "colab_type": "text"
      },
      "source": [
        "<a href=\"https://colab.research.google.com/github/patibandlaswaroopa/FML/blob/main/stemmedsentence.ipynb\" target=\"_parent\"><img src=\"https://colab.research.google.com/assets/colab-badge.svg\" alt=\"Open In Colab\"/></a>"
      ]
    },
    {
      "cell_type": "code",
      "execution_count": 9,
      "metadata": {
        "colab": {
          "base_uri": "https://localhost:8080/"
        },
        "id": "4qwInezwx6fI",
        "outputId": "c79c8b01-d66e-426a-cefe-34960fadfbb8"
      },
      "outputs": [
        {
          "output_type": "stream",
          "name": "stderr",
          "text": [
            "[nltk_data] Downloading package punkt to /root/nltk_data...\n",
            "[nltk_data]   Unzipping tokenizers/punkt.zip.\n"
          ]
        },
        {
          "output_type": "execute_result",
          "data": {
            "text/plain": [
              "True"
            ]
          },
          "metadata": {},
          "execution_count": 9
        }
      ],
      "source": [
        "import nltk\n",
        "from nltk.stem import PorterStemmer\n",
        "from nltk.tokenize import word_tokenize,sent_tokenize\n",
        "nltk.download('punkt')"
      ]
    },
    {
      "cell_type": "code",
      "source": [
        "porter = PorterStemmer()"
      ],
      "metadata": {
        "id": "MAVpQVykyP1D"
      },
      "execution_count": 10,
      "outputs": []
    },
    {
      "cell_type": "code",
      "source": [
        "sentence = \"A.P.J. Abdul Kalam, in full Avul Pakir Jainulabdeen Abdul Kalam, (born October 15, 1931, Rameswaram, India—died July 27, 2015, Shillong), Indian scientist and politician who played a leading role in the development of India’s missile and nuclear weapons programs. He was president of India from 2002 to 2007.Kalam earned a degree in aeronautical engineering from the Madras Institute of Technology and in 1958 joined the Defence Research and Development Organisation (DRDO). In 1969 he moved to the Indian Space Research Organisation, where he was project director of the SLV-III, the first satellite launch vehicle that was both designed and produced in India. Rejoining DRDO in 1982, Kalam planned the program that produced a number of successful missiles, which helped earn him the nickname “Missile Man.” Among those successes was Agni, India’s first intermediate-range ballistic missile, which incorporated aspects of the SLV-III and was launched in 1989.\""
      ],
      "metadata": {
        "id": "pzgHqXTlyWw9"
      },
      "execution_count": 11,
      "outputs": []
    },
    {
      "cell_type": "code",
      "source": [
        "def porterstem(sentence):\n",
        "    tokens = word_tokenize(sentence)\n",
        "    print(tokens)\n",
        "    senttokens =[]\n",
        "    for word in tokens:\n",
        "        senttokens.append(porter.stem(word))\n",
        "        senttokens.append(\"\")\n",
        "    return \"\".join(senttokens)\n",
        "x=porterstem(sentence)\n",
        "print(\"sentence after stemming :\",x)\n"
      ],
      "metadata": {
        "colab": {
          "base_uri": "https://localhost:8080/"
        },
        "id": "VfLBd6w0ysBP",
        "outputId": "89132cbc-8808-4b33-907e-4419d038a42c"
      },
      "execution_count": 12,
      "outputs": [
        {
          "output_type": "stream",
          "name": "stdout",
          "text": [
            "['A.P.J', '.', 'Abdul', 'Kalam', ',', 'in', 'full', 'Avul', 'Pakir', 'Jainulabdeen', 'Abdul', 'Kalam', ',', '(', 'born', 'October', '15', ',', '1931', ',', 'Rameswaram', ',', 'India—died', 'July', '27', ',', '2015', ',', 'Shillong', ')', ',', 'Indian', 'scientist', 'and', 'politician', 'who', 'played', 'a', 'leading', 'role', 'in', 'the', 'development', 'of', 'India', '’', 's', 'missile', 'and', 'nuclear', 'weapons', 'programs', '.', 'He', 'was', 'president', 'of', 'India', 'from', '2002', 'to', '2007.Kalam', 'earned', 'a', 'degree', 'in', 'aeronautical', 'engineering', 'from', 'the', 'Madras', 'Institute', 'of', 'Technology', 'and', 'in', '1958', 'joined', 'the', 'Defence', 'Research', 'and', 'Development', 'Organisation', '(', 'DRDO', ')', '.', 'In', '1969', 'he', 'moved', 'to', 'the', 'Indian', 'Space', 'Research', 'Organisation', ',', 'where', 'he', 'was', 'project', 'director', 'of', 'the', 'SLV-III', ',', 'the', 'first', 'satellite', 'launch', 'vehicle', 'that', 'was', 'both', 'designed', 'and', 'produced', 'in', 'India', '.', 'Rejoining', 'DRDO', 'in', '1982', ',', 'Kalam', 'planned', 'the', 'program', 'that', 'produced', 'a', 'number', 'of', 'successful', 'missiles', ',', 'which', 'helped', 'earn', 'him', 'the', 'nickname', '“', 'Missile', 'Man.', '”', 'Among', 'those', 'successes', 'was', 'Agni', ',', 'India', '’', 's', 'first', 'intermediate-range', 'ballistic', 'missile', ',', 'which', 'incorporated', 'aspects', 'of', 'the', 'SLV-III', 'and', 'was', 'launched', 'in', '1989', '.']\n",
            "sentence after stemming : a.p.j.abdulkalam,infullavulpakirjainulabdeenabdulkalam,(bornoctob15,1931,rameswaram,india—dijuli27,2015,shillong),indianscientistandpoliticianwhoplayaleadroleinthedevelopofindia’smissilandnuclearweaponprogram.hewapresidofindiafrom2002to2007.kalamearnadegreinaeronautenginfromthemadrainstitutoftechnologandin1958jointhedefencresearchanddeveloporganis(drdo).in1969hemovetotheindianspaceresearchorganis,wherehewaprojectdirectoroftheslv-iii,thefirstsatellitlaunchvehiclthatwabothdesignandproducinindia.rejoindrdoin1982,kalamplantheprogramthatproducanumberofsuccessmissil,whichhelpearnhimthenicknam“missilman.”amongthosesuccesswaagni,india’sfirstintermediate-rangballistmissil,whichincorporaspectoftheslv-iiiandwalaunchin1989.\n"
          ]
        }
      ]
    }
  ]
}