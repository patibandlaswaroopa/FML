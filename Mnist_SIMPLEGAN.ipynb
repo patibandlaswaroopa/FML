{
  "nbformat": 4,
  "nbformat_minor": 0,
  "metadata": {
    "colab": {
      "provenance": [],
      "authorship_tag": "ABX9TyO/gYpLjGXVGiIQiR8yEG6K",
      "include_colab_link": true
    },
    "kernelspec": {
      "name": "python3",
      "display_name": "Python 3"
    },
    "language_info": {
      "name": "python"
    }
  },
  "cells": [
    {
      "cell_type": "markdown",
      "metadata": {
        "id": "view-in-github",
        "colab_type": "text"
      },
      "source": [
        "<a href=\"https://colab.research.google.com/github/patibandlaswaroopa/FML/blob/main/Mnist_SIMPLEGAN.ipynb\" target=\"_parent\"><img src=\"https://colab.research.google.com/assets/colab-badge.svg\" alt=\"Open In Colab\"/></a>"
      ]
    },
    {
      "cell_type": "code",
      "source": [
        "import torch\n",
        "import torchvision\n",
        "from torchvision import transforms\n",
        "from torch.utils.data import DataLoader\n",
        "from torch.utils.tensorboard import SummaryWriter\n",
        "from torch import nn"
      ],
      "metadata": {
        "id": "MAjZFenwE79F"
      },
      "execution_count": 1,
      "outputs": []
    },
    {
      "cell_type": "code",
      "source": [
        "transform = transforms.Compose(\n",
        "[\n",
        "    transforms.ToTensor(),\n",
        "    transforms.Normalize((0.5),(0.5))\n",
        "]\n",
        ")"
      ],
      "metadata": {
        "id": "L8ckuEQ1OAOV"
      },
      "execution_count": 2,
      "outputs": []
    },
    {
      "cell_type": "code",
      "source": [
        "dataset = torchvision.datasets.MNIST(root = 'dataset/',transform = transform,download = True)"
      ],
      "metadata": {
        "colab": {
          "base_uri": "https://localhost:8080/"
        },
        "id": "cEtOg3YhOe28",
        "outputId": "53d4db81-427b-435f-f163-43e128b2b285"
      },
      "execution_count": 3,
      "outputs": [
        {
          "output_type": "stream",
          "name": "stdout",
          "text": [
            "Downloading http://yann.lecun.com/exdb/mnist/train-images-idx3-ubyte.gz\n",
            "Downloading http://yann.lecun.com/exdb/mnist/train-images-idx3-ubyte.gz to dataset/MNIST/raw/train-images-idx3-ubyte.gz\n"
          ]
        },
        {
          "output_type": "stream",
          "name": "stderr",
          "text": [
            "100%|██████████| 9912422/9912422 [00:00<00:00, 168130762.63it/s]"
          ]
        },
        {
          "output_type": "stream",
          "name": "stdout",
          "text": [
            "Extracting dataset/MNIST/raw/train-images-idx3-ubyte.gz to dataset/MNIST/raw\n"
          ]
        },
        {
          "output_type": "stream",
          "name": "stderr",
          "text": [
            "\n"
          ]
        },
        {
          "output_type": "stream",
          "name": "stdout",
          "text": [
            "\n",
            "Downloading http://yann.lecun.com/exdb/mnist/train-labels-idx1-ubyte.gz\n",
            "Downloading http://yann.lecun.com/exdb/mnist/train-labels-idx1-ubyte.gz to dataset/MNIST/raw/train-labels-idx1-ubyte.gz\n"
          ]
        },
        {
          "output_type": "stream",
          "name": "stderr",
          "text": [
            "100%|██████████| 28881/28881 [00:00<00:00, 8694157.31it/s]\n"
          ]
        },
        {
          "output_type": "stream",
          "name": "stdout",
          "text": [
            "Extracting dataset/MNIST/raw/train-labels-idx1-ubyte.gz to dataset/MNIST/raw\n",
            "\n",
            "Downloading http://yann.lecun.com/exdb/mnist/t10k-images-idx3-ubyte.gz\n",
            "Downloading http://yann.lecun.com/exdb/mnist/t10k-images-idx3-ubyte.gz to dataset/MNIST/raw/t10k-images-idx3-ubyte.gz\n"
          ]
        },
        {
          "output_type": "stream",
          "name": "stderr",
          "text": [
            "100%|██████████| 1648877/1648877 [00:00<00:00, 124880668.05it/s]"
          ]
        },
        {
          "output_type": "stream",
          "name": "stdout",
          "text": [
            "Extracting dataset/MNIST/raw/t10k-images-idx3-ubyte.gz to dataset/MNIST/raw\n"
          ]
        },
        {
          "output_type": "stream",
          "name": "stderr",
          "text": [
            "\n"
          ]
        },
        {
          "output_type": "stream",
          "name": "stdout",
          "text": [
            "\n",
            "Downloading http://yann.lecun.com/exdb/mnist/t10k-labels-idx1-ubyte.gz\n",
            "Downloading http://yann.lecun.com/exdb/mnist/t10k-labels-idx1-ubyte.gz to dataset/MNIST/raw/t10k-labels-idx1-ubyte.gz\n"
          ]
        },
        {
          "output_type": "stream",
          "name": "stderr",
          "text": [
            "100%|██████████| 4542/4542 [00:00<00:00, 15692363.07it/s]"
          ]
        },
        {
          "output_type": "stream",
          "name": "stdout",
          "text": [
            "Extracting dataset/MNIST/raw/t10k-labels-idx1-ubyte.gz to dataset/MNIST/raw\n",
            "\n"
          ]
        },
        {
          "output_type": "stream",
          "name": "stderr",
          "text": [
            "\n"
          ]
        }
      ]
    },
    {
      "cell_type": "code",
      "source": [
        "dataset.class_to_idx"
      ],
      "metadata": {
        "colab": {
          "base_uri": "https://localhost:8080/"
        },
        "id": "fP4SSe9HOyOD",
        "outputId": "f9ec2751-deea-47f7-eaff-6c2935d8e6f1"
      },
      "execution_count": 4,
      "outputs": [
        {
          "output_type": "execute_result",
          "data": {
            "text/plain": [
              "{'0 - zero': 0,\n",
              " '1 - one': 1,\n",
              " '2 - two': 2,\n",
              " '3 - three': 3,\n",
              " '4 - four': 4,\n",
              " '5 - five': 5,\n",
              " '6 - six': 6,\n",
              " '7 - seven': 7,\n",
              " '8 - eight': 8,\n",
              " '9 - nine': 9}"
            ]
          },
          "metadata": {},
          "execution_count": 4
        }
      ]
    },
    {
      "cell_type": "code",
      "source": [
        "loader =DataLoader(dataset, batch_size = 32, shuffle = True)"
      ],
      "metadata": {
        "id": "sbX8nh9jO7Gu"
      },
      "execution_count": 5,
      "outputs": []
    },
    {
      "cell_type": "code",
      "source": [
        "next(iter(loader))"
      ],
      "metadata": {
        "colab": {
          "base_uri": "https://localhost:8080/"
        },
        "id": "7M-mQAFAPOFG",
        "outputId": "ca67902e-d4db-4b56-f2e7-f9574a3d2eed"
      },
      "execution_count": 6,
      "outputs": [
        {
          "output_type": "execute_result",
          "data": {
            "text/plain": [
              "[tensor([[[[-1., -1., -1.,  ..., -1., -1., -1.],\n",
              "           [-1., -1., -1.,  ..., -1., -1., -1.],\n",
              "           [-1., -1., -1.,  ..., -1., -1., -1.],\n",
              "           ...,\n",
              "           [-1., -1., -1.,  ..., -1., -1., -1.],\n",
              "           [-1., -1., -1.,  ..., -1., -1., -1.],\n",
              "           [-1., -1., -1.,  ..., -1., -1., -1.]]],\n",
              " \n",
              " \n",
              "         [[[-1., -1., -1.,  ..., -1., -1., -1.],\n",
              "           [-1., -1., -1.,  ..., -1., -1., -1.],\n",
              "           [-1., -1., -1.,  ..., -1., -1., -1.],\n",
              "           ...,\n",
              "           [-1., -1., -1.,  ..., -1., -1., -1.],\n",
              "           [-1., -1., -1.,  ..., -1., -1., -1.],\n",
              "           [-1., -1., -1.,  ..., -1., -1., -1.]]],\n",
              " \n",
              " \n",
              "         [[[-1., -1., -1.,  ..., -1., -1., -1.],\n",
              "           [-1., -1., -1.,  ..., -1., -1., -1.],\n",
              "           [-1., -1., -1.,  ..., -1., -1., -1.],\n",
              "           ...,\n",
              "           [-1., -1., -1.,  ..., -1., -1., -1.],\n",
              "           [-1., -1., -1.,  ..., -1., -1., -1.],\n",
              "           [-1., -1., -1.,  ..., -1., -1., -1.]]],\n",
              " \n",
              " \n",
              "         ...,\n",
              " \n",
              " \n",
              "         [[[-1., -1., -1.,  ..., -1., -1., -1.],\n",
              "           [-1., -1., -1.,  ..., -1., -1., -1.],\n",
              "           [-1., -1., -1.,  ..., -1., -1., -1.],\n",
              "           ...,\n",
              "           [-1., -1., -1.,  ..., -1., -1., -1.],\n",
              "           [-1., -1., -1.,  ..., -1., -1., -1.],\n",
              "           [-1., -1., -1.,  ..., -1., -1., -1.]]],\n",
              " \n",
              " \n",
              "         [[[-1., -1., -1.,  ..., -1., -1., -1.],\n",
              "           [-1., -1., -1.,  ..., -1., -1., -1.],\n",
              "           [-1., -1., -1.,  ..., -1., -1., -1.],\n",
              "           ...,\n",
              "           [-1., -1., -1.,  ..., -1., -1., -1.],\n",
              "           [-1., -1., -1.,  ..., -1., -1., -1.],\n",
              "           [-1., -1., -1.,  ..., -1., -1., -1.]]],\n",
              " \n",
              " \n",
              "         [[[-1., -1., -1.,  ..., -1., -1., -1.],\n",
              "           [-1., -1., -1.,  ..., -1., -1., -1.],\n",
              "           [-1., -1., -1.,  ..., -1., -1., -1.],\n",
              "           ...,\n",
              "           [-1., -1., -1.,  ..., -1., -1., -1.],\n",
              "           [-1., -1., -1.,  ..., -1., -1., -1.],\n",
              "           [-1., -1., -1.,  ..., -1., -1., -1.]]]]),\n",
              " tensor([4, 1, 3, 3, 2, 2, 8, 2, 6, 3, 0, 5, 6, 0, 3, 1, 7, 4, 4, 6, 3, 1, 5, 5,\n",
              "         3, 1, 0, 8, 1, 6, 0, 4])]"
            ]
          },
          "metadata": {},
          "execution_count": 6
        }
      ]
    },
    {
      "cell_type": "code",
      "source": [
        "next(iter(loader))[0][0].permute((1,2,0)).shape"
      ],
      "metadata": {
        "colab": {
          "base_uri": "https://localhost:8080/"
        },
        "id": "Nc3T95DNPXoc",
        "outputId": "e2b2f372-570c-453a-f14f-632d8512c5ba"
      },
      "execution_count": 7,
      "outputs": [
        {
          "output_type": "execute_result",
          "data": {
            "text/plain": [
              "torch.Size([28, 28, 1])"
            ]
          },
          "metadata": {},
          "execution_count": 7
        }
      ]
    },
    {
      "cell_type": "code",
      "source": [
        "import matplotlib.pyplot as plt\n",
        "plt.figure(figsize=(1,1))\n",
        "plt.imshow(next(iter(loader))[0][0].permute((1,2,0)),cmap = 'gray')"
      ],
      "metadata": {
        "colab": {
          "base_uri": "https://localhost:8080/",
          "height": 158
        },
        "id": "Y21RfYvaPwFj",
        "outputId": "92d046ea-16b8-4ea9-868a-cb88dec52eb2"
      },
      "execution_count": 8,
      "outputs": [
        {
          "output_type": "execute_result",
          "data": {
            "text/plain": [
              "<matplotlib.image.AxesImage at 0x781e31eb7d90>"
            ]
          },
          "metadata": {},
          "execution_count": 8
        },
        {
          "output_type": "display_data",
          "data": {
            "text/plain": [
              "<Figure size 100x100 with 1 Axes>"
            ],
            "image/png": "[encoded data removed]"
          },
          "metadata": {}
        }
      ]
    },
    {
      "cell_type": "code",
      "source": [
        "class Discriminator(nn.Module):\n",
        "  def __init__(self,in_features):\n",
        "     super().__init__()\n",
        "\n",
        "     self.disc = nn.Sequential(\n",
        "        nn.Linear(in_features,128),\n",
        "        nn.LeakyReLU(0.01),\n",
        "        nn.Linear(128,1),\n",
        "        nn.sigmoid()\n",
        "     )\n",
        "  def forward(self,x):\n",
        "        return self.disc(x)\n"
      ],
      "metadata": {
        "id": "JhgUuT9OQUMH"
      },
      "execution_count": 9,
      "outputs": []
    },
    {
      "cell_type": "code",
      "source": [
        "import torch\n",
        "import torch.nn as nn\n",
        "import torch.nn.functional as F  # Import the functional module\n",
        "\n",
        "class Discriminator(nn.Module):\n",
        "    def __init__(self, in_features):\n",
        "        super(Discriminator, self).__init__()\n",
        "        self.model = nn.Sequential(\n",
        "            nn.Linear(in_features, 128),\n",
        "            nn.LeakyReLU(0.01),\n",
        "            nn.Linear(128, 1),\n",
        "            nn.Sigmoid()  # Use nn.Sigmoid() instead of nn.sigmoid()\n",
        "        )\n",
        "\n",
        "    def forward(self, x):\n",
        "        return self.model(x)\n"
      ],
      "metadata": {
        "id": "Vdyxhn4QYbPE"
      },
      "execution_count": 10,
      "outputs": []
    },
    {
      "cell_type": "code",
      "source": [
        "class Generator(nn.Module):\n",
        "  def __init__(self,z_dim,img_dim):\n",
        "     super().__init__()\n",
        "\n",
        "     self.gen = nn.Sequential(\n",
        "        nn.Linear(z_dim,256),\n",
        "        nn.LeakyReLU(0.01),\n",
        "        nn.Linear(128,img_dim),\n",
        "        nn.Tanh()\n",
        "     )\n",
        "  def forward(self,x):\n",
        "        return self.gen(x)\n"
      ],
      "metadata": {
        "id": "Pb9NdHfORdq-"
      },
      "execution_count": 11,
      "outputs": []
    },
    {
      "cell_type": "code",
      "source": [
        "z_dim = 64\n",
        "image_dim = 28 * 28 * 1\n",
        "device = 'cuda' if torch.cuda.is_available() else 'cpu'\n",
        "disc = Discriminator(image_dim).to(device)\n",
        "gen = Generator(z_dim,image_dim).to(device)\n",
        "epochs =10"
      ],
      "metadata": {
        "id": "R7Jj_zV3Tw-l"
      },
      "execution_count": 12,
      "outputs": []
    },
    {
      "cell_type": "code",
      "source": [
        "batch_size = 32\n",
        "fixed_noise = torch.rand(batch_size, z_dim)"
      ],
      "metadata": {
        "id": "ffJJC9bVUV7R"
      },
      "execution_count": 13,
      "outputs": []
    },
    {
      "cell_type": "code",
      "source": [
        "fixed_noise.shape"
      ],
      "metadata": {
        "colab": {
          "base_uri": "https://localhost:8080/"
        },
        "id": "f4VvwSWXUjoO",
        "outputId": "143f0952-4303-49f2-b056-5928a82f0a7d"
      },
      "execution_count": 14,
      "outputs": [
        {
          "output_type": "execute_result",
          "data": {
            "text/plain": [
              "torch.Size([32, 64])"
            ]
          },
          "metadata": {},
          "execution_count": 14
        }
      ]
    },
    {
      "cell_type": "code",
      "source": [
        "opt_disc = torch.optim.Adam(disc.parameters(),lr=3e-4)\n",
        "opt_gen = torch.optim.Adam(disc.parameters(),lr=3e-4)\n",
        "criterion = nn.BCELoss()"
      ],
      "metadata": {
        "id": "Kodn6UxxGR1O"
      },
      "execution_count": 15,
      "outputs": []
    },
    {
      "cell_type": "code",
      "source": [
        "Writer_fake = SummaryWriter()\n",
        "Writer_fake = SummaryWriter()\n",
        "step=0"
      ],
      "metadata": {
        "id": "h1A5HELAG7b1"
      },
      "execution_count": 16,
      "outputs": []
    },
    {
      "cell_type": "code",
      "source": [
        "for epoch in range(epochs):\n",
        "  for b,(real, _) in enumerate(loader):\n",
        "    print(real.shape)\n",
        "    break\n",
        "  break\n"
      ],
      "metadata": {
        "colab": {
          "base_uri": "https://localhost:8080/"
        },
        "id": "XG8qAba9UF-V",
        "outputId": "a7cc4d17-e81e-4437-d426-d4ed2bff40bc"
      },
      "execution_count": 17,
      "outputs": [
        {
          "output_type": "stream",
          "name": "stdout",
          "text": [
            "torch.Size([32, 1, 28, 28])\n"
          ]
        }
      ]
    },
    {
      "cell_type": "code",
      "source": [
        "for epoch in range(epochs):\n",
        "  for b,(real, _) in enumerate(loader):\n",
        "    print(real.view(-1,784).shape)\n",
        "    break\n",
        "  break\n",
        "\n",
        "\n",
        ""
      ],
      "metadata": {
        "colab": {
          "base_uri": "https://localhost:8080/"
        },
        "id": "7P2uf5COHE6P",
        "outputId": "976b242e-1262-49df-f361-3c1e4a305307"
      },
      "execution_count": 18,
      "outputs": [
        {
          "output_type": "stream",
          "name": "stdout",
          "text": [
            "torch.Size([32, 784])\n"
          ]
        }
      ]
    },
    {
      "cell_type": "code",
      "source": [
        "import torch\n",
        "import torch.nn as nn\n",
        "\n",
        "class Generator(nn.Module):\n",
        "    def __init__(self, z_dim, out_features):\n",
        "        super(Generator, self).__init__()\n",
        "        self.model = nn.Sequential(\n",
        "            nn.Linear(z_dim, 128),\n",
        "            nn.LeakyReLU(0.01),\n",
        "            nn.Linear(128, out_features),\n",
        "            nn.Tanh()  # Using Tanh activation for the generator output\n",
        "        )\n",
        "\n",
        "    def forward(self, x):\n",
        "        return self.model(x)\n",
        "\n",
        "z_dim = 64\n",
        "image_dim = 28 * 28 * 1\n",
        "gen = Generator(z_dim, image_dim).to(device)\n"
      ],
      "metadata": {
        "id": "VU5CkLKVZJRw"
      },
      "execution_count": 19,
      "outputs": []
    },
    {
      "cell_type": "code",
      "source": [
        "for epoch in range(epochs):\n",
        "    for b, (real, _) in enumerate(loader):\n",
        "        real = real.view(-1, 784).to(device)\n",
        "\n",
        "        # Training discriminator\n",
        "        noise = torch.rand(batch_size, z_dim).to(device)\n",
        "        fake = gen(noise)\n",
        "\n",
        "        # Check the sizes\n",
        "        print(fake.shape)\n",
        "        print(real.shape)\n",
        "\n",
        "        break\n",
        "    break\n"
      ],
      "metadata": {
        "colab": {
          "base_uri": "https://localhost:8080/"
        },
        "id": "xZ3gTsR5ZUqU",
        "outputId": "4b9e8906-261c-4148-82e3-3a5d12439f8f"
      },
      "execution_count": 20,
      "outputs": [
        {
          "output_type": "stream",
          "name": "stdout",
          "text": [
            "torch.Size([32, 784])\n",
            "torch.Size([32, 784])\n"
          ]
        }
      ]
    },
    {
      "cell_type": "code",
      "source": [
        "Writer_fake = SummaryWriter(f'logs/fake')\n",
        "Writer_real  = SummaryWriter(f'logs/real')\n",
        "step =0"
      ],
      "metadata": {
        "id": "fZYdICu0sSYB"
      },
      "execution_count": 21,
      "outputs": []
    },
    {
      "cell_type": "code",
      "source": [
        "28*28*1"
      ],
      "metadata": {
        "colab": {
          "base_uri": "https://localhost:8080/"
        },
        "id": "k6zV-t9qtDDQ",
        "outputId": "2af90c92-1d73-49c1-eb89-3b83dc5f65f6"
      },
      "execution_count": 22,
      "outputs": [
        {
          "output_type": "execute_result",
          "data": {
            "text/plain": [
              "784"
            ]
          },
          "metadata": {},
          "execution_count": 22
        }
      ]
    },
    {
      "cell_type": "code",
      "source": [
        "# Training loop\n",
        "for epoch in range(epochs):\n",
        "    for b, (real, _) in enumerate(loader):\n",
        "        real = real.view(-1, 784).to(device)\n",
        "\n",
        "        # Training discriminator\n",
        "        noise = torch.rand(batch_size, z_dim).to(device)\n",
        "        fake = gen(noise)\n",
        "\n",
        "        disc_real = disc(real).view(-1)\n",
        "        lossD_real = criterion(disc_real, torch.ones_like(disc_real))\n",
        "\n",
        "        disc_fake = disc(fake.detach()).view(-1)\n",
        "        lossD_fake = criterion(disc_fake, torch.zeros_like(disc_fake))\n",
        "\n",
        "        lossD = (lossD_real + lossD_fake) / 2\n",
        "\n",
        "        disc.zero_grad()\n",
        "        lossD.backward()\n",
        "        opt_disc.step()\n",
        "\n",
        "        # Training generator\n",
        "        output = disc(fake).view(-1)\n",
        "        lossG = criterion(output, torch.ones_like(output))\n",
        "        gen.zero_grad()\n",
        "        lossG.backward()\n",
        "        opt_gen.step()\n",
        "\n",
        "        if b == 0:\n",
        "            print(f\"Epoch [{epoch}/{epochs}] Batch {b}/{len(loader)} | loss D: {lossD:.4f}, Loss G: {lossG:.4f}\")\n",
        "\n",
        "            with torch.no_grad():\n",
        "                gen.eval()\n",
        "                fixed_noise = torch.rand(batch_size, z_dim).to(device)\n",
        "                fake = gen(fixed_noise).cpu().detach().numpy()[0, 0, :, :]\n",
        "                fake_tensor = torch.tensor(fake, dtype=torch.float32)\n",
        "                gen.train()\n",
        "\n",
        "                img_grid_fake = torchvision.utils.make_grid(fake_tensor.unsqueeze(0).unsqueeze(0), normalize=True)\n",
        "                img_grid_real = torchvision.utils.make_grid(torch.unsqueeze(real.cpu(), 1), normalize=True)\n",
        "\n",
        "                Writer_fake.add_image('MNIST FAKE IMAGE', img_grid_fake, global_step=step)\n",
        "                Writer_real.add_image('MNIST REAL IMAGE', img_grid_real, global_step=step)\n",
        "                step += 1\n",
        "\n",
        "                plt.figure(figsize=(1, 1))\n",
        "                plt.imshow(fake[0].squeeze(), cmap='gray')\n",
        "                plt.show()\n"
      ],
      "metadata": {
        "id": "uAVKXvV2ZcRK"
      },
      "execution_count": null,
      "outputs": []
    }
  ]
}